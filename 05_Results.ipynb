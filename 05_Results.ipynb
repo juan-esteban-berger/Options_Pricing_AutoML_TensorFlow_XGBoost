{
 "cells": [
  {
   "attachments": {},
   "cell_type": "markdown",
   "metadata": {},
   "source": [
    "# Results"
   ]
  },
  {
   "cell_type": "code",
   "execution_count": 1,
   "metadata": {},
   "outputs": [],
   "source": [
    "import warnings\n",
    "warnings.filterwarnings('ignore')"
   ]
  },
  {
   "cell_type": "code",
   "execution_count": null,
   "metadata": {},
   "outputs": [],
   "source": [
    "import numpy as np\n",
    "import pandas as pd\n",
    "import tensorflow as tf"
   ]
  },
  {
   "attachments": {},
   "cell_type": "markdown",
   "metadata": {},
   "source": [
    "## Load Data"
   ]
  },
  {
   "cell_type": "code",
   "execution_count": 4,
   "metadata": {},
   "outputs": [],
   "source": [
    "# Read in Parquet File\n",
    "df_final = pd.read_parquet('02_Clean_Data/df_final.parquet')\n",
    "\n",
    "# Shuffle Rows of Data Using the Same Random Seed Used in the Modeling Notebook\n",
    "df_final = df_final.sample(frac=1, random_state=42).reset_index(drop=True)"
   ]
  },
  {
   "cell_type": "code",
   "execution_count": 14,
   "metadata": {},
   "outputs": [],
   "source": [
    "# Read in Testing Results\n",
    "rnn_results = pd.read_csv('06_Testing_Results/RNN_01_results.csv')\n",
    "lstm_01_results = pd.read_csv('06_Testing_Results/lstm_01_results.csv')\n",
    "# lstm_02_results = pd.read_csv('06_Testing_Results/lstm_02_results.csv')\n",
    "lstm_03_results = pd.read_csv('06_Testing_Results/lstm_03_results.csv')\n",
    "lstm_04_results = pd.read_csv('06_Testing_Results/lstm_04_results.csv')\n",
    "gru_results = pd.read_csv('06_Testing_Results/GRU_results.csv')\n"
   ]
  },
  {
   "attachments": {},
   "cell_type": "markdown",
   "metadata": {},
   "source": [
    "## Data Preparation"
   ]
  },
  {
   "cell_type": "code",
   "execution_count": null,
   "metadata": {},
   "outputs": [],
   "source": []
  }
 ],
 "metadata": {
  "kernelspec": {
   "display_name": "tf",
   "language": "python",
   "name": "python3"
  },
  "language_info": {
   "codemirror_mode": {
    "name": "ipython",
    "version": 3
   },
   "file_extension": ".py",
   "mimetype": "text/x-python",
   "name": "python",
   "nbconvert_exporter": "python",
   "pygments_lexer": "ipython3",
   "version": "3.9.13"
  },
  "orig_nbformat": 4
 },
 "nbformat": 4,
 "nbformat_minor": 2
}
