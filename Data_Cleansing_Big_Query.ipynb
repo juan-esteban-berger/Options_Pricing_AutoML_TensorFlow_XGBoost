{
  "cells": [
    {
      "attachments": {},
      "cell_type": "markdown",
      "id": "9baeddaa-34c5-4eea-9a5a-157aee3d0957",
      "metadata": {
        "id": "9baeddaa-34c5-4eea-9a5a-157aee3d0957"
      },
      "source": [
        "# Data Cleansing with SQL on Google Big Query"
      ]
    },
    {
      "cell_type": "code",
      "execution_count": 2,
      "id": "Vm24l9nK9FKE",
      "metadata": {
        "id": "Vm24l9nK9FKE"
      },
      "outputs": [],
      "source": [
        "import warnings\n",
        "warnings.filterwarnings('ignore')"
      ]
    },
    {
      "attachments": {},
      "cell_type": "markdown",
      "id": "1901566e-90e3-44f9-b596-ab4fe69a8043",
      "metadata": {
        "id": "1901566e-90e3-44f9-b596-ab4fe69a8043"
      },
      "source": [
        "## Entity Relationship Diagram\n",
        "![Entity Relationship Diagram](https://github.com/juan-esteban-berger/Options_Pricing_with_Neural_Networks_and_Gradient_Boosters/blob/main/images/Entity_Relationship_Diagram.jpg?raw=true)\n"
      ]
    },
    {
      "attachments": {},
      "cell_type": "markdown",
      "id": "d500899f-faf9-482b-a6b7-4e5767b6297b",
      "metadata": {
        "id": "d500899f-faf9-482b-a6b7-4e5767b6297b"
      },
      "source": [
        "## Join Options_Info and Options_Prices Tables"
      ]
    },
    {
      "cell_type": "code",
      "execution_count": null,
      "id": "90b15022-fd8e-481d-8070-1e062c88e498",
      "metadata": {
        "colab": {
          "referenced_widgets": [
            "07895e81373546ef9d513bb05c5b4e87",
            "31ad6d355c0b4037ac9e7651fe13c470"
          ]
        },
        "id": "90b15022-fd8e-481d-8070-1e062c88e498",
        "outputId": "8e900fae-b87f-438d-8eaa-d5f9ad212dad"
      },
      "outputs": [
        {
          "data": {
            "application/vnd.jupyter.widget-view+json": {
              "model_id": "07895e81373546ef9d513bb05c5b4e87",
              "version_major": 2,
              "version_minor": 0
            },
            "text/plain": [
              "Query is running:   0%|          |"
            ]
          },
          "metadata": {},
          "output_type": "display_data"
        },
        {
          "data": {
            "application/vnd.jupyter.widget-view+json": {
              "model_id": "31ad6d355c0b4037ac9e7651fe13c470",
              "version_major": 2,
              "version_minor": 0
            },
            "text/plain": [
              "Downloading:   0%|          |"
            ]
          },
          "metadata": {},
          "output_type": "display_data"
        },
        {
          "data": {
            "text/html": [
              "<div>\n",
              "<style scoped>\n",
              "    .dataframe tbody tr th:only-of-type {\n",
              "        vertical-align: middle;\n",
              "    }\n",
              "\n",
              "    .dataframe tbody tr th {\n",
              "        vertical-align: top;\n",
              "    }\n",
              "\n",
              "    .dataframe thead th {\n",
              "        text-align: right;\n",
              "    }\n",
              "</style>\n",
              "<table border=\"1\" class=\"dataframe\">\n",
              "  <thead>\n",
              "    <tr style=\"text-align: right;\">\n",
              "      <th></th>\n",
              "      <th>secid</th>\n",
              "      <th>date</th>\n",
              "      <th>exdate</th>\n",
              "      <th>cp_flag</th>\n",
              "      <th>strike_price</th>\n",
              "      <th>impl_volatility</th>\n",
              "      <th>optionid</th>\n",
              "      <th>index_flag</th>\n",
              "      <th>issuer</th>\n",
              "      <th>div_convention</th>\n",
              "      <th>exercise_style</th>\n",
              "    </tr>\n",
              "  </thead>\n",
              "  <tbody>\n",
              "    <tr>\n",
              "      <th>0</th>\n",
              "      <td>101647</td>\n",
              "      <td>2009-11-27</td>\n",
              "      <td>2010-07-17</td>\n",
              "      <td>C</td>\n",
              "      <td>6000</td>\n",
              "      <td>0.967060</td>\n",
              "      <td>46405890</td>\n",
              "      <td>0</td>\n",
              "      <td>ARENA PHARMACEUTICALS INC</td>\n",
              "      <td>None</td>\n",
              "      <td>A</td>\n",
              "    </tr>\n",
              "    <tr>\n",
              "      <th>1</th>\n",
              "      <td>101647</td>\n",
              "      <td>2009-11-27</td>\n",
              "      <td>2010-07-17</td>\n",
              "      <td>C</td>\n",
              "      <td>7000</td>\n",
              "      <td>0.937626</td>\n",
              "      <td>46724269</td>\n",
              "      <td>0</td>\n",
              "      <td>ARENA PHARMACEUTICALS INC</td>\n",
              "      <td>None</td>\n",
              "      <td>A</td>\n",
              "    </tr>\n",
              "    <tr>\n",
              "      <th>2</th>\n",
              "      <td>101647</td>\n",
              "      <td>2009-11-27</td>\n",
              "      <td>2010-07-17</td>\n",
              "      <td>C</td>\n",
              "      <td>3000</td>\n",
              "      <td>0.888191</td>\n",
              "      <td>46517898</td>\n",
              "      <td>0</td>\n",
              "      <td>ARENA PHARMACEUTICALS INC</td>\n",
              "      <td>None</td>\n",
              "      <td>A</td>\n",
              "    </tr>\n",
              "    <tr>\n",
              "      <th>3</th>\n",
              "      <td>101647</td>\n",
              "      <td>2009-11-27</td>\n",
              "      <td>2010-07-17</td>\n",
              "      <td>C</td>\n",
              "      <td>4000</td>\n",
              "      <td>0.839475</td>\n",
              "      <td>45400599</td>\n",
              "      <td>0</td>\n",
              "      <td>ARENA PHARMACEUTICALS INC</td>\n",
              "      <td>None</td>\n",
              "      <td>A</td>\n",
              "    </tr>\n",
              "    <tr>\n",
              "      <th>4</th>\n",
              "      <td>101647</td>\n",
              "      <td>2009-11-27</td>\n",
              "      <td>2010-07-17</td>\n",
              "      <td>C</td>\n",
              "      <td>1000</td>\n",
              "      <td>0.994055</td>\n",
              "      <td>46654492</td>\n",
              "      <td>0</td>\n",
              "      <td>ARENA PHARMACEUTICALS INC</td>\n",
              "      <td>None</td>\n",
              "      <td>A</td>\n",
              "    </tr>\n",
              "  </tbody>\n",
              "</table>\n",
              "</div>"
            ],
            "text/plain": [
              "    secid        date      exdate cp_flag  strike_price  impl_volatility  \\\n",
              "0  101647  2009-11-27  2010-07-17       C          6000         0.967060   \n",
              "1  101647  2009-11-27  2010-07-17       C          7000         0.937626   \n",
              "2  101647  2009-11-27  2010-07-17       C          3000         0.888191   \n",
              "3  101647  2009-11-27  2010-07-17       C          4000         0.839475   \n",
              "4  101647  2009-11-27  2010-07-17       C          1000         0.994055   \n",
              "\n",
              "   optionid  index_flag                     issuer div_convention  \\\n",
              "0  46405890           0  ARENA PHARMACEUTICALS INC           None   \n",
              "1  46724269           0  ARENA PHARMACEUTICALS INC           None   \n",
              "2  46517898           0  ARENA PHARMACEUTICALS INC           None   \n",
              "3  45400599           0  ARENA PHARMACEUTICALS INC           None   \n",
              "4  46654492           0  ARENA PHARMACEUTICALS INC           None   \n",
              "\n",
              "  exercise_style  \n",
              "0              A  \n",
              "1              A  \n",
              "2              A  \n",
              "3              A  \n",
              "4              A  "
            ]
          },
          "execution_count": 4,
          "metadata": {},
          "output_type": "execute_result"
        }
      ],
      "source": [
        "%%bigquery\n",
        "# Preview Options_Info\n",
        "SELECT * FROM `acms80695-384817.Options_Dataset.Options_Info` LIMIT 5"
      ]
    },
    {
      "cell_type": "code",
      "execution_count": null,
      "id": "4db61d83-630c-4ac0-9a75-66691240caab",
      "metadata": {
        "colab": {
          "referenced_widgets": [
            "89f838f3b0d749259bb6d93490b2ca58",
            "fcc4b1ded87743d6a824be2eb623cbe8"
          ]
        },
        "id": "4db61d83-630c-4ac0-9a75-66691240caab",
        "outputId": "9c82a5cc-534f-48a9-ed64-ef04c7df71b0"
      },
      "outputs": [
        {
          "data": {
            "application/vnd.jupyter.widget-view+json": {
              "model_id": "89f838f3b0d749259bb6d93490b2ca58",
              "version_major": 2,
              "version_minor": 0
            },
            "text/plain": [
              "Query is running:   0%|          |"
            ]
          },
          "metadata": {},
          "output_type": "display_data"
        },
        {
          "data": {
            "application/vnd.jupyter.widget-view+json": {
              "model_id": "fcc4b1ded87743d6a824be2eb623cbe8",
              "version_major": 2,
              "version_minor": 0
            },
            "text/plain": [
              "Downloading:   0%|          |"
            ]
          },
          "metadata": {},
          "output_type": "display_data"
        },
        {
          "data": {
            "text/html": [
              "<div>\n",
              "<style scoped>\n",
              "    .dataframe tbody tr th:only-of-type {\n",
              "        vertical-align: middle;\n",
              "    }\n",
              "\n",
              "    .dataframe tbody tr th {\n",
              "        vertical-align: top;\n",
              "    }\n",
              "\n",
              "    .dataframe thead th {\n",
              "        text-align: right;\n",
              "    }\n",
              "</style>\n",
              "<table border=\"1\" class=\"dataframe\">\n",
              "  <thead>\n",
              "    <tr style=\"text-align: right;\">\n",
              "      <th></th>\n",
              "      <th>date</th>\n",
              "      <th>exdate</th>\n",
              "      <th>cp_flag</th>\n",
              "      <th>best_bid</th>\n",
              "      <th>best_offer</th>\n",
              "      <th>optionid</th>\n",
              "      <th>am_settlement</th>\n",
              "      <th>index_flag</th>\n",
              "      <th>issuer</th>\n",
              "      <th>exercise_style</th>\n",
              "    </tr>\n",
              "  </thead>\n",
              "  <tbody>\n",
              "    <tr>\n",
              "      <th>0</th>\n",
              "      <td>2009-12-21</td>\n",
              "      <td>2010-08-21</td>\n",
              "      <td>C</td>\n",
              "      <td>3.00</td>\n",
              "      <td>3.60</td>\n",
              "      <td>45373285</td>\n",
              "      <td>0</td>\n",
              "      <td>0</td>\n",
              "      <td>INFOGROUP INC</td>\n",
              "      <td>A</td>\n",
              "    </tr>\n",
              "    <tr>\n",
              "      <th>1</th>\n",
              "      <td>2009-12-21</td>\n",
              "      <td>2010-08-21</td>\n",
              "      <td>C</td>\n",
              "      <td>0.70</td>\n",
              "      <td>1.10</td>\n",
              "      <td>46718441</td>\n",
              "      <td>0</td>\n",
              "      <td>0</td>\n",
              "      <td>INFOGROUP INC</td>\n",
              "      <td>A</td>\n",
              "    </tr>\n",
              "    <tr>\n",
              "      <th>2</th>\n",
              "      <td>2009-12-21</td>\n",
              "      <td>2010-08-21</td>\n",
              "      <td>C</td>\n",
              "      <td>1.55</td>\n",
              "      <td>2.10</td>\n",
              "      <td>46359818</td>\n",
              "      <td>0</td>\n",
              "      <td>0</td>\n",
              "      <td>INFOGROUP INC</td>\n",
              "      <td>A</td>\n",
              "    </tr>\n",
              "    <tr>\n",
              "      <th>3</th>\n",
              "      <td>2009-12-22</td>\n",
              "      <td>2010-08-21</td>\n",
              "      <td>C</td>\n",
              "      <td>3.00</td>\n",
              "      <td>3.80</td>\n",
              "      <td>45373285</td>\n",
              "      <td>0</td>\n",
              "      <td>0</td>\n",
              "      <td>INFOGROUP INC</td>\n",
              "      <td>A</td>\n",
              "    </tr>\n",
              "    <tr>\n",
              "      <th>4</th>\n",
              "      <td>2009-12-22</td>\n",
              "      <td>2010-08-21</td>\n",
              "      <td>C</td>\n",
              "      <td>0.70</td>\n",
              "      <td>1.15</td>\n",
              "      <td>46718441</td>\n",
              "      <td>0</td>\n",
              "      <td>0</td>\n",
              "      <td>INFOGROUP INC</td>\n",
              "      <td>A</td>\n",
              "    </tr>\n",
              "  </tbody>\n",
              "</table>\n",
              "</div>"
            ],
            "text/plain": [
              "         date      exdate cp_flag  best_bid  best_offer  optionid  \\\n",
              "0  2009-12-21  2010-08-21       C      3.00        3.60  45373285   \n",
              "1  2009-12-21  2010-08-21       C      0.70        1.10  46718441   \n",
              "2  2009-12-21  2010-08-21       C      1.55        2.10  46359818   \n",
              "3  2009-12-22  2010-08-21       C      3.00        3.80  45373285   \n",
              "4  2009-12-22  2010-08-21       C      0.70        1.15  46718441   \n",
              "\n",
              "   am_settlement  index_flag         issuer exercise_style  \n",
              "0              0           0  INFOGROUP INC              A  \n",
              "1              0           0  INFOGROUP INC              A  \n",
              "2              0           0  INFOGROUP INC              A  \n",
              "3              0           0  INFOGROUP INC              A  \n",
              "4              0           0  INFOGROUP INC              A  "
            ]
          },
          "execution_count": 5,
          "metadata": {},
          "output_type": "execute_result"
        }
      ],
      "source": [
        "%%bigquery\n",
        "# Preview Options_Prices\n",
        "SELECT * FROM `acms80695-384817.Options_Dataset.Options_Prices` LIMIT 5"
      ]
    },
    {
      "cell_type": "code",
      "execution_count": null,
      "id": "a6577b8f-0cea-4c18-b1e4-80807b017f4a",
      "metadata": {
        "colab": {
          "referenced_widgets": [
            "6926be8e1b7a44aa86c3c561668d9281"
          ]
        },
        "id": "a6577b8f-0cea-4c18-b1e4-80807b017f4a",
        "outputId": "e7b8aec3-8c62-4429-d42d-080f2cd37980"
      },
      "outputs": [
        {
          "data": {
            "application/vnd.jupyter.widget-view+json": {
              "model_id": "6926be8e1b7a44aa86c3c561668d9281",
              "version_major": 2,
              "version_minor": 0
            },
            "text/plain": [
              "Query is running:   0%|          |"
            ]
          },
          "metadata": {},
          "output_type": "display_data"
        },
        {
          "data": {
            "text/html": [
              "<div>\n",
              "<style scoped>\n",
              "    .dataframe tbody tr th:only-of-type {\n",
              "        vertical-align: middle;\n",
              "    }\n",
              "\n",
              "    .dataframe tbody tr th {\n",
              "        vertical-align: top;\n",
              "    }\n",
              "\n",
              "    .dataframe thead th {\n",
              "        text-align: right;\n",
              "    }\n",
              "</style>\n",
              "<table border=\"1\" class=\"dataframe\">\n",
              "  <thead>\n",
              "    <tr style=\"text-align: right;\">\n",
              "      <th></th>\n",
              "    </tr>\n",
              "  </thead>\n",
              "  <tbody>\n",
              "  </tbody>\n",
              "</table>\n",
              "</div>"
            ],
            "text/plain": [
              "Empty DataFrame\n",
              "Columns: []\n",
              "Index: []"
            ]
          },
          "execution_count": 23,
          "metadata": {},
          "output_type": "execute_result"
        }
      ],
      "source": [
        "%%bigquery\n",
        "# Join the Options_Info and Options_Prices Tables\n",
        "CREATE VIEW `acms80695-384817.Options_Dataset.Options_Info_Prices` AS\n",
        "SELECT\n",
        "t1.*,\n",
        "t2.best_bid, t2.best_offer, t2.am_settlement\n",
        "FROM `acms80695-384817.Options_Dataset.Options_Info` AS t1\n",
        "JOIN `acms80695-384817.Options_Dataset.Options_Prices` AS t2\n",
        "ON t1.optionid = t2.optionid AND t1.date = t2.date"
      ]
    },
    {
      "cell_type": "code",
      "execution_count": null,
      "id": "b36953bf-2328-4853-af93-4bd390eda9c9",
      "metadata": {
        "colab": {
          "referenced_widgets": [
            "9f2080707c454d8c99589ff1277f06c3",
            "2db193bd9b904df3b108f6132d912e4a"
          ]
        },
        "id": "b36953bf-2328-4853-af93-4bd390eda9c9",
        "outputId": "f0fa019c-858c-41a6-e0e0-777f1a92e660"
      },
      "outputs": [
        {
          "data": {
            "application/vnd.jupyter.widget-view+json": {
              "model_id": "9f2080707c454d8c99589ff1277f06c3",
              "version_major": 2,
              "version_minor": 0
            },
            "text/plain": [
              "Query is running:   0%|          |"
            ]
          },
          "metadata": {},
          "output_type": "display_data"
        },
        {
          "data": {
            "application/vnd.jupyter.widget-view+json": {
              "model_id": "2db193bd9b904df3b108f6132d912e4a",
              "version_major": 2,
              "version_minor": 0
            },
            "text/plain": [
              "Downloading:   0%|          |"
            ]
          },
          "metadata": {},
          "output_type": "display_data"
        },
        {
          "data": {
            "text/html": [
              "<div>\n",
              "<style scoped>\n",
              "    .dataframe tbody tr th:only-of-type {\n",
              "        vertical-align: middle;\n",
              "    }\n",
              "\n",
              "    .dataframe tbody tr th {\n",
              "        vertical-align: top;\n",
              "    }\n",
              "\n",
              "    .dataframe thead th {\n",
              "        text-align: right;\n",
              "    }\n",
              "</style>\n",
              "<table border=\"1\" class=\"dataframe\">\n",
              "  <thead>\n",
              "    <tr style=\"text-align: right;\">\n",
              "      <th></th>\n",
              "      <th>secid</th>\n",
              "      <th>date</th>\n",
              "      <th>exdate</th>\n",
              "      <th>cp_flag</th>\n",
              "      <th>strike_price</th>\n",
              "      <th>impl_volatility</th>\n",
              "      <th>optionid</th>\n",
              "      <th>index_flag</th>\n",
              "      <th>issuer</th>\n",
              "      <th>div_convention</th>\n",
              "      <th>exercise_style</th>\n",
              "      <th>best_bid</th>\n",
              "      <th>best_offer</th>\n",
              "      <th>am_settlement</th>\n",
              "    </tr>\n",
              "  </thead>\n",
              "  <tbody>\n",
              "    <tr>\n",
              "      <th>0</th>\n",
              "      <td>212668</td>\n",
              "      <td>2021-01-26</td>\n",
              "      <td>2021-02-19</td>\n",
              "      <td>P</td>\n",
              "      <td>50000</td>\n",
              "      <td>0.482925</td>\n",
              "      <td>134694465</td>\n",
              "      <td>0</td>\n",
              "      <td>PAGSEGURO DIGITAL LTD</td>\n",
              "      <td>None</td>\n",
              "      <td>A</td>\n",
              "      <td>1.70</td>\n",
              "      <td>1.95</td>\n",
              "      <td>0</td>\n",
              "    </tr>\n",
              "    <tr>\n",
              "      <th>1</th>\n",
              "      <td>212676</td>\n",
              "      <td>2021-02-18</td>\n",
              "      <td>2021-02-19</td>\n",
              "      <td>P</td>\n",
              "      <td>2500</td>\n",
              "      <td>NaN</td>\n",
              "      <td>137482193</td>\n",
              "      <td>0</td>\n",
              "      <td>PLAYAGS INC</td>\n",
              "      <td>None</td>\n",
              "      <td>A</td>\n",
              "      <td>0.00</td>\n",
              "      <td>0.05</td>\n",
              "      <td>0</td>\n",
              "    </tr>\n",
              "    <tr>\n",
              "      <th>2</th>\n",
              "      <td>212790</td>\n",
              "      <td>2021-01-14</td>\n",
              "      <td>2021-02-19</td>\n",
              "      <td>P</td>\n",
              "      <td>115000</td>\n",
              "      <td>1.164223</td>\n",
              "      <td>134732059</td>\n",
              "      <td>0</td>\n",
              "      <td>ZSCALER INC</td>\n",
              "      <td>None</td>\n",
              "      <td>A</td>\n",
              "      <td>0.05</td>\n",
              "      <td>2.29</td>\n",
              "      <td>0</td>\n",
              "    </tr>\n",
              "    <tr>\n",
              "      <th>3</th>\n",
              "      <td>212790</td>\n",
              "      <td>2021-02-02</td>\n",
              "      <td>2021-02-19</td>\n",
              "      <td>P</td>\n",
              "      <td>232500</td>\n",
              "      <td>0.559091</td>\n",
              "      <td>138139021</td>\n",
              "      <td>0</td>\n",
              "      <td>ZSCALER INC</td>\n",
              "      <td>None</td>\n",
              "      <td>A</td>\n",
              "      <td>19.95</td>\n",
              "      <td>21.00</td>\n",
              "      <td>0</td>\n",
              "    </tr>\n",
              "    <tr>\n",
              "      <th>4</th>\n",
              "      <td>106969</td>\n",
              "      <td>2021-10-28</td>\n",
              "      <td>2021-11-05</td>\n",
              "      <td>C</td>\n",
              "      <td>71000</td>\n",
              "      <td>0.349198</td>\n",
              "      <td>142687845</td>\n",
              "      <td>0</td>\n",
              "      <td>BATH &amp; BODY WORKS INC</td>\n",
              "      <td>None</td>\n",
              "      <td>A</td>\n",
              "      <td>0.70</td>\n",
              "      <td>0.78</td>\n",
              "      <td>0</td>\n",
              "    </tr>\n",
              "  </tbody>\n",
              "</table>\n",
              "</div>"
            ],
            "text/plain": [
              "    secid        date      exdate cp_flag  strike_price  impl_volatility  \\\n",
              "0  212668  2021-01-26  2021-02-19       P         50000         0.482925   \n",
              "1  212676  2021-02-18  2021-02-19       P          2500              NaN   \n",
              "2  212790  2021-01-14  2021-02-19       P        115000         1.164223   \n",
              "3  212790  2021-02-02  2021-02-19       P        232500         0.559091   \n",
              "4  106969  2021-10-28  2021-11-05       C         71000         0.349198   \n",
              "\n",
              "    optionid  index_flag                 issuer div_convention exercise_style  \\\n",
              "0  134694465           0  PAGSEGURO DIGITAL LTD           None              A   \n",
              "1  137482193           0            PLAYAGS INC           None              A   \n",
              "2  134732059           0            ZSCALER INC           None              A   \n",
              "3  138139021           0            ZSCALER INC           None              A   \n",
              "4  142687845           0  BATH & BODY WORKS INC           None              A   \n",
              "\n",
              "   best_bid  best_offer  am_settlement  \n",
              "0      1.70        1.95              0  \n",
              "1      0.00        0.05              0  \n",
              "2      0.05        2.29              0  \n",
              "3     19.95       21.00              0  \n",
              "4      0.70        0.78              0  "
            ]
          },
          "execution_count": 24,
          "metadata": {},
          "output_type": "execute_result"
        }
      ],
      "source": [
        "%%bigquery\n",
        "# Preview Options_Info_Prices\n",
        "SELECT * FROM `acms80695-384817.Options_Dataset.Options_Info_Prices` LIMIT 5"
      ]
    },
    {
      "attachments": {},
      "cell_type": "markdown",
      "id": "71ba8651-9e7c-441d-97b9-c734c5f874d6",
      "metadata": {
        "id": "71ba8651-9e7c-441d-97b9-c734c5f874d6"
      },
      "source": [
        "## Join the Security_Prices and Zero_Coupon_Yield_Curve Tables"
      ]
    },
    {
      "cell_type": "code",
      "execution_count": null,
      "id": "83f7ecdc-6ffa-4ed2-8cf4-301b3679802c",
      "metadata": {
        "colab": {
          "referenced_widgets": [
            "c3b542be0db0477e9363d9301ffbd2a0",
            "ac0ba59b3fbc4018a3f58a51d7d0d679"
          ]
        },
        "id": "83f7ecdc-6ffa-4ed2-8cf4-301b3679802c",
        "outputId": "f01c0d43-d254-46f3-9c72-065342e170fd"
      },
      "outputs": [
        {
          "data": {
            "application/vnd.jupyter.widget-view+json": {
              "model_id": "c3b542be0db0477e9363d9301ffbd2a0",
              "version_major": 2,
              "version_minor": 0
            },
            "text/plain": [
              "Query is running:   0%|          |"
            ]
          },
          "metadata": {},
          "output_type": "display_data"
        },
        {
          "data": {
            "application/vnd.jupyter.widget-view+json": {
              "model_id": "ac0ba59b3fbc4018a3f58a51d7d0d679",
              "version_major": 2,
              "version_minor": 0
            },
            "text/plain": [
              "Downloading:   0%|          |"
            ]
          },
          "metadata": {},
          "output_type": "display_data"
        },
        {
          "data": {
            "text/html": [
              "<div>\n",
              "<style scoped>\n",
              "    .dataframe tbody tr th:only-of-type {\n",
              "        vertical-align: middle;\n",
              "    }\n",
              "\n",
              "    .dataframe tbody tr th {\n",
              "        vertical-align: top;\n",
              "    }\n",
              "\n",
              "    .dataframe thead th {\n",
              "        text-align: right;\n",
              "    }\n",
              "</style>\n",
              "<table border=\"1\" class=\"dataframe\">\n",
              "  <thead>\n",
              "    <tr style=\"text-align: right;\">\n",
              "      <th></th>\n",
              "      <th>secid</th>\n",
              "      <th>date</th>\n",
              "      <th>cusip</th>\n",
              "      <th>ticker</th>\n",
              "      <th>sic</th>\n",
              "      <th>index_flag</th>\n",
              "      <th>exchange_d</th>\n",
              "      <th>class</th>\n",
              "      <th>issue_type</th>\n",
              "      <th>industry_group</th>\n",
              "      <th>low</th>\n",
              "      <th>high</th>\n",
              "      <th>open</th>\n",
              "      <th>close</th>\n",
              "      <th>volume</th>\n",
              "      <th>return</th>\n",
              "      <th>cfadj</th>\n",
              "      <th>shrout</th>\n",
              "      <th>cfret</th>\n",
              "    </tr>\n",
              "  </thead>\n",
              "  <tbody>\n",
              "    <tr>\n",
              "      <th>0</th>\n",
              "      <td>110286</td>\n",
              "      <td>1996-10-15</td>\n",
              "      <td>00037T10</td>\n",
              "      <td>AAPJ</td>\n",
              "      <td>&lt;NA&gt;</td>\n",
              "      <td>0</td>\n",
              "      <td>16</td>\n",
              "      <td>None</td>\n",
              "      <td>0</td>\n",
              "      <td>&lt;NA&gt;</td>\n",
              "      <td>3.125000000</td>\n",
              "      <td>3.375000000</td>\n",
              "      <td>3.375000000</td>\n",
              "      <td>3.125000000</td>\n",
              "      <td>6400.000000000</td>\n",
              "      <td>-0.043061000</td>\n",
              "      <td>1</td>\n",
              "      <td>3504</td>\n",
              "      <td>1</td>\n",
              "    </tr>\n",
              "    <tr>\n",
              "      <th>1</th>\n",
              "      <td>110286</td>\n",
              "      <td>1997-02-26</td>\n",
              "      <td>00037T10</td>\n",
              "      <td>AAPJ</td>\n",
              "      <td>&lt;NA&gt;</td>\n",
              "      <td>0</td>\n",
              "      <td>16</td>\n",
              "      <td>None</td>\n",
              "      <td>0</td>\n",
              "      <td>&lt;NA&gt;</td>\n",
              "      <td>2.750000000</td>\n",
              "      <td>3.000000000</td>\n",
              "      <td>3.000000000</td>\n",
              "      <td>3.000000000</td>\n",
              "      <td>14300.000000000</td>\n",
              "      <td>0E-9</td>\n",
              "      <td>1</td>\n",
              "      <td>3492</td>\n",
              "      <td>1</td>\n",
              "    </tr>\n",
              "    <tr>\n",
              "      <th>2</th>\n",
              "      <td>110286</td>\n",
              "      <td>1998-05-13</td>\n",
              "      <td>00037T10</td>\n",
              "      <td>AAPJ</td>\n",
              "      <td>&lt;NA&gt;</td>\n",
              "      <td>0</td>\n",
              "      <td>16</td>\n",
              "      <td>None</td>\n",
              "      <td>0</td>\n",
              "      <td>&lt;NA&gt;</td>\n",
              "      <td>0.375000000</td>\n",
              "      <td>0.500000000</td>\n",
              "      <td>0.500000000</td>\n",
              "      <td>0.375000000</td>\n",
              "      <td>46600.000000000</td>\n",
              "      <td>-0.142857000</td>\n",
              "      <td>1</td>\n",
              "      <td>8304</td>\n",
              "      <td>1</td>\n",
              "    </tr>\n",
              "    <tr>\n",
              "      <th>3</th>\n",
              "      <td>110286</td>\n",
              "      <td>1998-11-13</td>\n",
              "      <td>00037T10</td>\n",
              "      <td>AAPJ</td>\n",
              "      <td>&lt;NA&gt;</td>\n",
              "      <td>0</td>\n",
              "      <td>16</td>\n",
              "      <td>None</td>\n",
              "      <td>0</td>\n",
              "      <td>&lt;NA&gt;</td>\n",
              "      <td>0.281250000</td>\n",
              "      <td>0.281250000</td>\n",
              "      <td>0.281250000</td>\n",
              "      <td>0.281250000</td>\n",
              "      <td>2000.000000000</td>\n",
              "      <td>-0.181818000</td>\n",
              "      <td>0.25</td>\n",
              "      <td>2076</td>\n",
              "      <td>0.25</td>\n",
              "    </tr>\n",
              "    <tr>\n",
              "      <th>4</th>\n",
              "      <td>110286</td>\n",
              "      <td>1997-07-29</td>\n",
              "      <td>00037T10</td>\n",
              "      <td>AAPJ</td>\n",
              "      <td>&lt;NA&gt;</td>\n",
              "      <td>0</td>\n",
              "      <td>16</td>\n",
              "      <td>None</td>\n",
              "      <td>0</td>\n",
              "      <td>&lt;NA&gt;</td>\n",
              "      <td>2.375000000</td>\n",
              "      <td>2.375000000</td>\n",
              "      <td>2.375000000</td>\n",
              "      <td>2.375000000</td>\n",
              "      <td>200.000000000</td>\n",
              "      <td>-0.095238000</td>\n",
              "      <td>1</td>\n",
              "      <td>3500</td>\n",
              "      <td>1</td>\n",
              "    </tr>\n",
              "  </tbody>\n",
              "</table>\n",
              "</div>"
            ],
            "text/plain": [
              "    secid        date     cusip ticker   sic  index_flag  exchange_d class  \\\n",
              "0  110286  1996-10-15  00037T10   AAPJ  <NA>           0          16  None   \n",
              "1  110286  1997-02-26  00037T10   AAPJ  <NA>           0          16  None   \n",
              "2  110286  1998-05-13  00037T10   AAPJ  <NA>           0          16  None   \n",
              "3  110286  1998-11-13  00037T10   AAPJ  <NA>           0          16  None   \n",
              "4  110286  1997-07-29  00037T10   AAPJ  <NA>           0          16  None   \n",
              "\n",
              "  issue_type  industry_group          low         high         open  \\\n",
              "0          0            <NA>  3.125000000  3.375000000  3.375000000   \n",
              "1          0            <NA>  2.750000000  3.000000000  3.000000000   \n",
              "2          0            <NA>  0.375000000  0.500000000  0.500000000   \n",
              "3          0            <NA>  0.281250000  0.281250000  0.281250000   \n",
              "4          0            <NA>  2.375000000  2.375000000  2.375000000   \n",
              "\n",
              "         close           volume        return cfadj shrout cfret  \n",
              "0  3.125000000   6400.000000000  -0.043061000     1   3504     1  \n",
              "1  3.000000000  14300.000000000          0E-9     1   3492     1  \n",
              "2  0.375000000  46600.000000000  -0.142857000     1   8304     1  \n",
              "3  0.281250000   2000.000000000  -0.181818000  0.25   2076  0.25  \n",
              "4  2.375000000    200.000000000  -0.095238000     1   3500     1  "
            ]
          },
          "execution_count": 25,
          "metadata": {},
          "output_type": "execute_result"
        }
      ],
      "source": [
        "%%bigquery\n",
        "# Preview Security_Prices\n",
        "SELECT * FROM `acms80695-384817.Options_Dataset.Security_Prices` LIMIT 5"
      ]
    },
    {
      "cell_type": "code",
      "execution_count": null,
      "id": "b55753bc-571f-4bbd-addc-5986000cfab4",
      "metadata": {
        "colab": {
          "referenced_widgets": [
            "add77bce90144955b09395b4c41c08b1",
            "e89c1043a72f479f8d534e538965023f"
          ]
        },
        "id": "b55753bc-571f-4bbd-addc-5986000cfab4",
        "outputId": "1678e030-fe1b-4c75-e07e-e16a89b83b7d"
      },
      "outputs": [
        {
          "data": {
            "application/vnd.jupyter.widget-view+json": {
              "model_id": "add77bce90144955b09395b4c41c08b1",
              "version_major": 2,
              "version_minor": 0
            },
            "text/plain": [
              "Query is running:   0%|          |"
            ]
          },
          "metadata": {},
          "output_type": "display_data"
        },
        {
          "data": {
            "application/vnd.jupyter.widget-view+json": {
              "model_id": "e89c1043a72f479f8d534e538965023f",
              "version_major": 2,
              "version_minor": 0
            },
            "text/plain": [
              "Downloading:   0%|          |"
            ]
          },
          "metadata": {},
          "output_type": "display_data"
        },
        {
          "data": {
            "text/html": [
              "<div>\n",
              "<style scoped>\n",
              "    .dataframe tbody tr th:only-of-type {\n",
              "        vertical-align: middle;\n",
              "    }\n",
              "\n",
              "    .dataframe tbody tr th {\n",
              "        vertical-align: top;\n",
              "    }\n",
              "\n",
              "    .dataframe thead th {\n",
              "        text-align: right;\n",
              "    }\n",
              "</style>\n",
              "<table border=\"1\" class=\"dataframe\">\n",
              "  <thead>\n",
              "    <tr style=\"text-align: right;\">\n",
              "      <th></th>\n",
              "      <th>date</th>\n",
              "      <th>days</th>\n",
              "      <th>rate</th>\n",
              "    </tr>\n",
              "  </thead>\n",
              "  <tbody>\n",
              "    <tr>\n",
              "      <th>0</th>\n",
              "      <td>2020-04-02</td>\n",
              "      <td>256</td>\n",
              "      <td>0.558797</td>\n",
              "    </tr>\n",
              "    <tr>\n",
              "      <th>1</th>\n",
              "      <td>2020-07-02</td>\n",
              "      <td>256</td>\n",
              "      <td>0.282671</td>\n",
              "    </tr>\n",
              "    <tr>\n",
              "      <th>2</th>\n",
              "      <td>2020-10-01</td>\n",
              "      <td>256</td>\n",
              "      <td>0.209547</td>\n",
              "    </tr>\n",
              "    <tr>\n",
              "      <th>3</th>\n",
              "      <td>2020-12-31</td>\n",
              "      <td>256</td>\n",
              "      <td>0.169495</td>\n",
              "    </tr>\n",
              "    <tr>\n",
              "      <th>4</th>\n",
              "      <td>2021-04-01</td>\n",
              "      <td>256</td>\n",
              "      <td>0.181553</td>\n",
              "    </tr>\n",
              "  </tbody>\n",
              "</table>\n",
              "</div>"
            ],
            "text/plain": [
              "         date  days      rate\n",
              "0  2020-04-02   256  0.558797\n",
              "1  2020-07-02   256  0.282671\n",
              "2  2020-10-01   256  0.209547\n",
              "3  2020-12-31   256  0.169495\n",
              "4  2021-04-01   256  0.181553"
            ]
          },
          "execution_count": 26,
          "metadata": {},
          "output_type": "execute_result"
        }
      ],
      "source": [
        "%%bigquery\n",
        "# Preview Zero_Coupon_Yield_Curve\n",
        "SELECT * FROM `acms80695-384817.Options_Dataset.Zero_Coupon_Yield_Curve` LIMIT 5"
      ]
    },
    {
      "cell_type": "code",
      "execution_count": null,
      "id": "738e7918-952d-4eb1-8166-b6b9fa2c4a63",
      "metadata": {
        "colab": {
          "referenced_widgets": [
            "da83a6c0aea84f68b018ff8be8d9ba22"
          ]
        },
        "id": "738e7918-952d-4eb1-8166-b6b9fa2c4a63",
        "outputId": "20aad0f5-090f-443c-ad45-c32428800954"
      },
      "outputs": [
        {
          "data": {
            "application/vnd.jupyter.widget-view+json": {
              "model_id": "da83a6c0aea84f68b018ff8be8d9ba22",
              "version_major": 2,
              "version_minor": 0
            },
            "text/plain": [
              "Query is running:   0%|          |"
            ]
          },
          "metadata": {},
          "output_type": "display_data"
        },
        {
          "data": {
            "text/html": [
              "<div>\n",
              "<style scoped>\n",
              "    .dataframe tbody tr th:only-of-type {\n",
              "        vertical-align: middle;\n",
              "    }\n",
              "\n",
              "    .dataframe tbody tr th {\n",
              "        vertical-align: top;\n",
              "    }\n",
              "\n",
              "    .dataframe thead th {\n",
              "        text-align: right;\n",
              "    }\n",
              "</style>\n",
              "<table border=\"1\" class=\"dataframe\">\n",
              "  <thead>\n",
              "    <tr style=\"text-align: right;\">\n",
              "      <th></th>\n",
              "    </tr>\n",
              "  </thead>\n",
              "  <tbody>\n",
              "  </tbody>\n",
              "</table>\n",
              "</div>"
            ],
            "text/plain": [
              "Empty DataFrame\n",
              "Columns: []\n",
              "Index: []"
            ]
          },
          "execution_count": 39,
          "metadata": {},
          "output_type": "execute_result"
        }
      ],
      "source": [
        "%%bigquery\n",
        "# Join the Security_Prices and Zero_Coupon_Yield_Curve Tables\n",
        "CREATE VIEW `acms80695-384817.Options_Dataset.Security_Rate` AS\n",
        "SELECT t1.secid, t1.`date`, t1.ticker, t1.industry_group, t1.close AS under_price,\n",
        "       AVG(t1.return) AS return,\n",
        "       COALESCE(AVG(t2.rate), 0) AS zero_coupon\n",
        "FROM `acms80695-384817.Options_Dataset.Security_Prices` AS t1\n",
        "LEFT JOIN `acms80695-384817.Options_Dataset.Zero_Coupon_Yield_Curve` AS t2\n",
        "    ON t1.`date` = t2.`date`\n",
        "WHERE t1.index_flag = 1\n",
        "GROUP BY t1.`date`, t1.secid, t1.ticker, t1.industry_group, t1.close\n"
      ]
    },
    {
      "cell_type": "code",
      "execution_count": null,
      "id": "acdb5e78-3d7f-4528-80db-d839c16af7a0",
      "metadata": {
        "colab": {
          "referenced_widgets": [
            "9c57015bdf8d4019b8b75d3110144026",
            "e5dce69e7da4405c8216fac9e3fb3ef5"
          ]
        },
        "id": "acdb5e78-3d7f-4528-80db-d839c16af7a0",
        "outputId": "c2ea239c-958d-4f4f-b3fa-5f9ee4218c4a"
      },
      "outputs": [
        {
          "data": {
            "application/vnd.jupyter.widget-view+json": {
              "model_id": "9c57015bdf8d4019b8b75d3110144026",
              "version_major": 2,
              "version_minor": 0
            },
            "text/plain": [
              "Query is running:   0%|          |"
            ]
          },
          "metadata": {},
          "output_type": "display_data"
        },
        {
          "data": {
            "application/vnd.jupyter.widget-view+json": {
              "model_id": "e5dce69e7da4405c8216fac9e3fb3ef5",
              "version_major": 2,
              "version_minor": 0
            },
            "text/plain": [
              "Downloading:   0%|          |"
            ]
          },
          "metadata": {},
          "output_type": "display_data"
        },
        {
          "data": {
            "text/html": [
              "<div>\n",
              "<style scoped>\n",
              "    .dataframe tbody tr th:only-of-type {\n",
              "        vertical-align: middle;\n",
              "    }\n",
              "\n",
              "    .dataframe tbody tr th {\n",
              "        vertical-align: top;\n",
              "    }\n",
              "\n",
              "    .dataframe thead th {\n",
              "        text-align: right;\n",
              "    }\n",
              "</style>\n",
              "<table border=\"1\" class=\"dataframe\">\n",
              "  <thead>\n",
              "    <tr style=\"text-align: right;\">\n",
              "      <th></th>\n",
              "      <th>secid</th>\n",
              "      <th>date</th>\n",
              "      <th>ticker</th>\n",
              "      <th>industry_group</th>\n",
              "      <th>under_price</th>\n",
              "      <th>return</th>\n",
              "      <th>zero_coupon</th>\n",
              "    </tr>\n",
              "  </thead>\n",
              "  <tbody>\n",
              "    <tr>\n",
              "      <th>0</th>\n",
              "      <td>100003</td>\n",
              "      <td>2001-02-08</td>\n",
              "      <td>XAM2</td>\n",
              "      <td>&lt;NA&gt;</td>\n",
              "      <td>-388.000000000</td>\n",
              "      <td>0E-9</td>\n",
              "      <td>5.661053</td>\n",
              "    </tr>\n",
              "    <tr>\n",
              "      <th>1</th>\n",
              "      <td>100003</td>\n",
              "      <td>2004-07-13</td>\n",
              "      <td>XAM2</td>\n",
              "      <td>&lt;NA&gt;</td>\n",
              "      <td>-427.000000000</td>\n",
              "      <td>-0.102941000</td>\n",
              "      <td>3.724076</td>\n",
              "    </tr>\n",
              "    <tr>\n",
              "      <th>2</th>\n",
              "      <td>100009</td>\n",
              "      <td>2006-08-18</td>\n",
              "      <td>DOW2</td>\n",
              "      <td>&lt;NA&gt;</td>\n",
              "      <td>-279522.900000000</td>\n",
              "      <td>0.151050000</td>\n",
              "      <td>5.323272</td>\n",
              "    </tr>\n",
              "    <tr>\n",
              "      <th>3</th>\n",
              "      <td>100016</td>\n",
              "      <td>2001-03-14</td>\n",
              "      <td>NYA6</td>\n",
              "      <td>&lt;NA&gt;</td>\n",
              "      <td>-9084.170000000</td>\n",
              "      <td>0.160549000</td>\n",
              "      <td>5.359185</td>\n",
              "    </tr>\n",
              "    <tr>\n",
              "      <th>4</th>\n",
              "      <td>100110</td>\n",
              "      <td>2001-04-02</td>\n",
              "      <td>US25</td>\n",
              "      <td>&lt;NA&gt;</td>\n",
              "      <td>-0.529000000</td>\n",
              "      <td>0.001894000</td>\n",
              "      <td>5.331782</td>\n",
              "    </tr>\n",
              "  </tbody>\n",
              "</table>\n",
              "</div>"
            ],
            "text/plain": [
              "    secid        date ticker  industry_group        under_price        return  \\\n",
              "0  100003  2001-02-08   XAM2            <NA>     -388.000000000          0E-9   \n",
              "1  100003  2004-07-13   XAM2            <NA>     -427.000000000  -0.102941000   \n",
              "2  100009  2006-08-18   DOW2            <NA>  -279522.900000000   0.151050000   \n",
              "3  100016  2001-03-14   NYA6            <NA>    -9084.170000000   0.160549000   \n",
              "4  100110  2001-04-02   US25            <NA>       -0.529000000   0.001894000   \n",
              "\n",
              "   zero_coupon  \n",
              "0     5.661053  \n",
              "1     3.724076  \n",
              "2     5.323272  \n",
              "3     5.359185  \n",
              "4     5.331782  "
            ]
          },
          "execution_count": 40,
          "metadata": {},
          "output_type": "execute_result"
        }
      ],
      "source": [
        "%%bigquery\n",
        "# Preview Security_and_Rate\n",
        "SELECT * FROM `acms80695-384817.Options_Dataset.Security_Rate` LIMIT 5"
      ]
    },
    {
      "attachments": {},
      "cell_type": "markdown",
      "id": "657ed711-edab-4c03-969e-0c60344e39cc",
      "metadata": {
        "id": "657ed711-edab-4c03-969e-0c60344e39cc"
      },
      "source": [
        "## Join the Security_Rate and Index_Dividend_Yield Tables"
      ]
    },
    {
      "cell_type": "code",
      "execution_count": null,
      "id": "a34b707c-8872-4cb3-bda7-d061ed1167a8",
      "metadata": {
        "colab": {
          "referenced_widgets": [
            "60b9283f90874adbae7c1be5766ed011",
            "d81370b8574d463b8c02323e78dd60da"
          ]
        },
        "id": "a34b707c-8872-4cb3-bda7-d061ed1167a8",
        "outputId": "5e59969f-0ced-46aa-c6ca-e61394633a61"
      },
      "outputs": [
        {
          "data": {
            "application/vnd.jupyter.widget-view+json": {
              "model_id": "60b9283f90874adbae7c1be5766ed011",
              "version_major": 2,
              "version_minor": 0
            },
            "text/plain": [
              "Query is running:   0%|          |"
            ]
          },
          "metadata": {},
          "output_type": "display_data"
        },
        {
          "data": {
            "application/vnd.jupyter.widget-view+json": {
              "model_id": "d81370b8574d463b8c02323e78dd60da",
              "version_major": 2,
              "version_minor": 0
            },
            "text/plain": [
              "Downloading:   0%|          |"
            ]
          },
          "metadata": {},
          "output_type": "display_data"
        },
        {
          "data": {
            "text/html": [
              "<div>\n",
              "<style scoped>\n",
              "    .dataframe tbody tr th:only-of-type {\n",
              "        vertical-align: middle;\n",
              "    }\n",
              "\n",
              "    .dataframe tbody tr th {\n",
              "        vertical-align: top;\n",
              "    }\n",
              "\n",
              "    .dataframe thead th {\n",
              "        text-align: right;\n",
              "    }\n",
              "</style>\n",
              "<table border=\"1\" class=\"dataframe\">\n",
              "  <thead>\n",
              "    <tr style=\"text-align: right;\">\n",
              "      <th></th>\n",
              "      <th>secid</th>\n",
              "      <th>date</th>\n",
              "      <th>cusip</th>\n",
              "      <th>ticker</th>\n",
              "      <th>sic</th>\n",
              "      <th>index_flag</th>\n",
              "      <th>exchange_d</th>\n",
              "      <th>class</th>\n",
              "      <th>issue_type</th>\n",
              "      <th>industry_group</th>\n",
              "      <th>rate</th>\n",
              "    </tr>\n",
              "  </thead>\n",
              "  <tbody>\n",
              "    <tr>\n",
              "      <th>0</th>\n",
              "      <td>100910</td>\n",
              "      <td>1996-01-09</td>\n",
              "      <td>00168D10</td>\n",
              "      <td>ZZZZ</td>\n",
              "      <td>9999</td>\n",
              "      <td>1</td>\n",
              "      <td>0</td>\n",
              "      <td>None</td>\n",
              "      <td>A</td>\n",
              "      <td>None</td>\n",
              "      <td>4.709331</td>\n",
              "    </tr>\n",
              "    <tr>\n",
              "      <th>1</th>\n",
              "      <td>100910</td>\n",
              "      <td>1996-01-15</td>\n",
              "      <td>00168D10</td>\n",
              "      <td>ZZZZ</td>\n",
              "      <td>9999</td>\n",
              "      <td>1</td>\n",
              "      <td>0</td>\n",
              "      <td>None</td>\n",
              "      <td>A</td>\n",
              "      <td>None</td>\n",
              "      <td>6.106868</td>\n",
              "    </tr>\n",
              "    <tr>\n",
              "      <th>2</th>\n",
              "      <td>100910</td>\n",
              "      <td>1996-01-16</td>\n",
              "      <td>00168D10</td>\n",
              "      <td>ZZZZ</td>\n",
              "      <td>9999</td>\n",
              "      <td>1</td>\n",
              "      <td>0</td>\n",
              "      <td>None</td>\n",
              "      <td>A</td>\n",
              "      <td>None</td>\n",
              "      <td>5.325938</td>\n",
              "    </tr>\n",
              "    <tr>\n",
              "      <th>3</th>\n",
              "      <td>100910</td>\n",
              "      <td>1996-01-17</td>\n",
              "      <td>00168D10</td>\n",
              "      <td>ZZZZ</td>\n",
              "      <td>9999</td>\n",
              "      <td>1</td>\n",
              "      <td>0</td>\n",
              "      <td>None</td>\n",
              "      <td>A</td>\n",
              "      <td>None</td>\n",
              "      <td>2.828713</td>\n",
              "    </tr>\n",
              "    <tr>\n",
              "      <th>4</th>\n",
              "      <td>100910</td>\n",
              "      <td>1996-01-18</td>\n",
              "      <td>00168D10</td>\n",
              "      <td>ZZZZ</td>\n",
              "      <td>9999</td>\n",
              "      <td>1</td>\n",
              "      <td>0</td>\n",
              "      <td>None</td>\n",
              "      <td>A</td>\n",
              "      <td>None</td>\n",
              "      <td>3.408793</td>\n",
              "    </tr>\n",
              "  </tbody>\n",
              "</table>\n",
              "</div>"
            ],
            "text/plain": [
              "    secid        date     cusip ticker   sic  index_flag  exchange_d class  \\\n",
              "0  100910  1996-01-09  00168D10   ZZZZ  9999           1           0  None   \n",
              "1  100910  1996-01-15  00168D10   ZZZZ  9999           1           0  None   \n",
              "2  100910  1996-01-16  00168D10   ZZZZ  9999           1           0  None   \n",
              "3  100910  1996-01-17  00168D10   ZZZZ  9999           1           0  None   \n",
              "4  100910  1996-01-18  00168D10   ZZZZ  9999           1           0  None   \n",
              "\n",
              "  issue_type industry_group      rate  \n",
              "0          A           None  4.709331  \n",
              "1          A           None  6.106868  \n",
              "2          A           None  5.325938  \n",
              "3          A           None  2.828713  \n",
              "4          A           None  3.408793  "
            ]
          },
          "execution_count": 37,
          "metadata": {},
          "output_type": "execute_result"
        }
      ],
      "source": [
        "%%bigquery\n",
        "# Preview Index_Dividend_Yield\n",
        "SELECT * FROM `acms80695-384817.Options_Dataset.Index_Dividend_Yield` LIMIT 5"
      ]
    },
    {
      "cell_type": "code",
      "execution_count": null,
      "id": "c2e863c6-b3fb-49bb-bd11-d66e3c3677eb",
      "metadata": {
        "colab": {
          "referenced_widgets": [
            "01021b6ac63a43a493b7dc092ef80d77"
          ]
        },
        "id": "c2e863c6-b3fb-49bb-bd11-d66e3c3677eb",
        "outputId": "00b470f2-f060-476a-a0a6-c044b3d446c8"
      },
      "outputs": [
        {
          "data": {
            "application/vnd.jupyter.widget-view+json": {
              "model_id": "01021b6ac63a43a493b7dc092ef80d77",
              "version_major": 2,
              "version_minor": 0
            },
            "text/plain": [
              "Query is running:   0%|          |"
            ]
          },
          "metadata": {},
          "output_type": "display_data"
        },
        {
          "data": {
            "text/html": [
              "<div>\n",
              "<style scoped>\n",
              "    .dataframe tbody tr th:only-of-type {\n",
              "        vertical-align: middle;\n",
              "    }\n",
              "\n",
              "    .dataframe tbody tr th {\n",
              "        vertical-align: top;\n",
              "    }\n",
              "\n",
              "    .dataframe thead th {\n",
              "        text-align: right;\n",
              "    }\n",
              "</style>\n",
              "<table border=\"1\" class=\"dataframe\">\n",
              "  <thead>\n",
              "    <tr style=\"text-align: right;\">\n",
              "      <th></th>\n",
              "    </tr>\n",
              "  </thead>\n",
              "  <tbody>\n",
              "  </tbody>\n",
              "</table>\n",
              "</div>"
            ],
            "text/plain": [
              "Empty DataFrame\n",
              "Columns: []\n",
              "Index: []"
            ]
          },
          "execution_count": 42,
          "metadata": {},
          "output_type": "execute_result"
        }
      ],
      "source": [
        "%%bigquery\n",
        "# Join the Security_Rate and Index_Dividend_Yield Tables\n",
        "CREATE VIEW `acms80695-384817.Options_Dataset.Security_Rate_Div` AS\n",
        "SELECT\n",
        "t1.*,\n",
        "t2.rate AS div_yield\n",
        "FROM `Options_Dataset.Security_Rate` as t1\n",
        "LEFT JOIN `Options_Dataset.Index_Dividend_Yield` as t2\n",
        "ON t1.secid = t2.secid AND t1.date = t2.date"
      ]
    },
    {
      "cell_type": "code",
      "execution_count": null,
      "id": "eb1c1205-d18c-4627-b562-7ecbbd4c548f",
      "metadata": {
        "colab": {
          "referenced_widgets": [
            "d436c537da3944b7b5a3884c1dba852f",
            "299a5b2755b848d2a230f46f31b04c69"
          ]
        },
        "id": "eb1c1205-d18c-4627-b562-7ecbbd4c548f",
        "outputId": "757f6577-4210-4dce-ee1e-4e16f99fc932"
      },
      "outputs": [
        {
          "data": {
            "application/vnd.jupyter.widget-view+json": {
              "model_id": "d436c537da3944b7b5a3884c1dba852f",
              "version_major": 2,
              "version_minor": 0
            },
            "text/plain": [
              "Query is running:   0%|          |"
            ]
          },
          "metadata": {},
          "output_type": "display_data"
        },
        {
          "data": {
            "application/vnd.jupyter.widget-view+json": {
              "model_id": "299a5b2755b848d2a230f46f31b04c69",
              "version_major": 2,
              "version_minor": 0
            },
            "text/plain": [
              "Downloading:   0%|          |"
            ]
          },
          "metadata": {},
          "output_type": "display_data"
        },
        {
          "data": {
            "text/html": [
              "<div>\n",
              "<style scoped>\n",
              "    .dataframe tbody tr th:only-of-type {\n",
              "        vertical-align: middle;\n",
              "    }\n",
              "\n",
              "    .dataframe tbody tr th {\n",
              "        vertical-align: top;\n",
              "    }\n",
              "\n",
              "    .dataframe thead th {\n",
              "        text-align: right;\n",
              "    }\n",
              "</style>\n",
              "<table border=\"1\" class=\"dataframe\">\n",
              "  <thead>\n",
              "    <tr style=\"text-align: right;\">\n",
              "      <th></th>\n",
              "      <th>secid</th>\n",
              "      <th>date</th>\n",
              "      <th>ticker</th>\n",
              "      <th>industry_group</th>\n",
              "      <th>under_price</th>\n",
              "      <th>return</th>\n",
              "      <th>zero_coupon</th>\n",
              "      <th>div_yield</th>\n",
              "    </tr>\n",
              "  </thead>\n",
              "  <tbody>\n",
              "    <tr>\n",
              "      <th>0</th>\n",
              "      <td>100004</td>\n",
              "      <td>2005-06-10</td>\n",
              "      <td>XAM3</td>\n",
              "      <td>&lt;NA&gt;</td>\n",
              "      <td>-101.000000000</td>\n",
              "      <td>0E-9</td>\n",
              "      <td>4.097479</td>\n",
              "      <td>NaN</td>\n",
              "    </tr>\n",
              "    <tr>\n",
              "      <th>1</th>\n",
              "      <td>100005</td>\n",
              "      <td>2006-02-23</td>\n",
              "      <td>NYA1</td>\n",
              "      <td>&lt;NA&gt;</td>\n",
              "      <td>-1431.000000000</td>\n",
              "      <td>-0.365972000</td>\n",
              "      <td>5.060336</td>\n",
              "      <td>NaN</td>\n",
              "    </tr>\n",
              "    <tr>\n",
              "      <th>2</th>\n",
              "      <td>100016</td>\n",
              "      <td>2003-04-22</td>\n",
              "      <td>NYA6</td>\n",
              "      <td>&lt;NA&gt;</td>\n",
              "      <td>-5712.838000000</td>\n",
              "      <td>0.024219000</td>\n",
              "      <td>3.008841</td>\n",
              "      <td>NaN</td>\n",
              "    </tr>\n",
              "    <tr>\n",
              "      <th>3</th>\n",
              "      <td>100057</td>\n",
              "      <td>2001-12-26</td>\n",
              "      <td>ZZZZ</td>\n",
              "      <td>&lt;NA&gt;</td>\n",
              "      <td>-2.180000000</td>\n",
              "      <td>0.004608000</td>\n",
              "      <td>4.646277</td>\n",
              "      <td>NaN</td>\n",
              "    </tr>\n",
              "    <tr>\n",
              "      <th>4</th>\n",
              "      <td>100120</td>\n",
              "      <td>2002-12-12</td>\n",
              "      <td>ZZZZ</td>\n",
              "      <td>&lt;NA&gt;</td>\n",
              "      <td>214.090000000</td>\n",
              "      <td>0.004269000</td>\n",
              "      <td>3.111416</td>\n",
              "      <td>NaN</td>\n",
              "    </tr>\n",
              "  </tbody>\n",
              "</table>\n",
              "</div>"
            ],
            "text/plain": [
              "    secid        date ticker  industry_group      under_price        return  \\\n",
              "0  100004  2005-06-10   XAM3            <NA>   -101.000000000          0E-9   \n",
              "1  100005  2006-02-23   NYA1            <NA>  -1431.000000000  -0.365972000   \n",
              "2  100016  2003-04-22   NYA6            <NA>  -5712.838000000   0.024219000   \n",
              "3  100057  2001-12-26   ZZZZ            <NA>     -2.180000000   0.004608000   \n",
              "4  100120  2002-12-12   ZZZZ            <NA>    214.090000000   0.004269000   \n",
              "\n",
              "   zero_coupon  div_yield  \n",
              "0     4.097479        NaN  \n",
              "1     5.060336        NaN  \n",
              "2     3.008841        NaN  \n",
              "3     4.646277        NaN  \n",
              "4     3.111416        NaN  "
            ]
          },
          "execution_count": 43,
          "metadata": {},
          "output_type": "execute_result"
        }
      ],
      "source": [
        "%%bigquery\n",
        "# Preview Security_Rate_Div\n",
        "SELECT * FROM `acms80695-384817.Options_Dataset.Security_Rate_Div` LIMIT 5"
      ]
    },
    {
      "attachments": {},
      "cell_type": "markdown",
      "id": "49c450b2-3d39-46a7-8b8d-70166fdac87a",
      "metadata": {
        "id": "49c450b2-3d39-46a7-8b8d-70166fdac87a"
      },
      "source": [
        "## Filter Options_Info_Prices"
      ]
    },
    {
      "cell_type": "code",
      "execution_count": null,
      "id": "fa98e25d-e561-4c12-95e2-d2e76efc0dda",
      "metadata": {
        "colab": {
          "referenced_widgets": [
            "023fa2010be548cf831dde142d250a25"
          ]
        },
        "id": "fa98e25d-e561-4c12-95e2-d2e76efc0dda",
        "outputId": "62ea8a45-6b81-4119-bc40-25cead15157f"
      },
      "outputs": [
        {
          "data": {
            "application/vnd.jupyter.widget-view+json": {
              "model_id": "023fa2010be548cf831dde142d250a25",
              "version_major": 2,
              "version_minor": 0
            },
            "text/plain": [
              "Query is running:   0%|          |"
            ]
          },
          "metadata": {},
          "output_type": "display_data"
        },
        {
          "data": {
            "text/html": [
              "<div>\n",
              "<style scoped>\n",
              "    .dataframe tbody tr th:only-of-type {\n",
              "        vertical-align: middle;\n",
              "    }\n",
              "\n",
              "    .dataframe tbody tr th {\n",
              "        vertical-align: top;\n",
              "    }\n",
              "\n",
              "    .dataframe thead th {\n",
              "        text-align: right;\n",
              "    }\n",
              "</style>\n",
              "<table border=\"1\" class=\"dataframe\">\n",
              "  <thead>\n",
              "    <tr style=\"text-align: right;\">\n",
              "      <th></th>\n",
              "    </tr>\n",
              "  </thead>\n",
              "  <tbody>\n",
              "  </tbody>\n",
              "</table>\n",
              "</div>"
            ],
            "text/plain": [
              "Empty DataFrame\n",
              "Columns: []\n",
              "Index: []"
            ]
          },
          "execution_count": 48,
          "metadata": {},
          "output_type": "execute_result"
        }
      ],
      "source": [
        "%%bigquery\n",
        "# Filter Options_Info_Prices\n",
        "# Only inlcude:\n",
        "# - Options with a European Exercise Style\n",
        "# - Option that expire at the market close of the last trading day (not early settlement)\n",
        "# - Options whose Underlying Asset is an Index\n",
        "# - Options whose underlying asset pays a continuous implied dividend yield\n",
        "\n",
        "CREATE VIEW `acms80695-384817.Options_Dataset.Options_Indexes` AS\n",
        "SELECT secid, `date`, exdate, cp_flag, strike_price, impl_volatility,\n",
        "       best_bid, best_offer\n",
        "FROM   `acms80695-384817.Options_Dataset.Options_Info_Prices`\n",
        "WHERE  index_flag = 1 AND exercise_style = 'E' AND div_convention = 'I'\n",
        "       AND  am_settlement = 0"
      ]
    },
    {
      "cell_type": "code",
      "execution_count": null,
      "id": "f6acf113-ed08-46ea-ab04-9de70123ed24",
      "metadata": {
        "colab": {
          "referenced_widgets": [
            "0d41ce204d1e47b4acd3ea182d798120",
            "f310aec7a8de4b55a534ec9166eaf602"
          ]
        },
        "id": "f6acf113-ed08-46ea-ab04-9de70123ed24",
        "outputId": "15beba81-ba6a-4951-feb3-12850687d4f5"
      },
      "outputs": [
        {
          "data": {
            "application/vnd.jupyter.widget-view+json": {
              "model_id": "0d41ce204d1e47b4acd3ea182d798120",
              "version_major": 2,
              "version_minor": 0
            },
            "text/plain": [
              "Query is running:   0%|          |"
            ]
          },
          "metadata": {},
          "output_type": "display_data"
        },
        {
          "data": {
            "application/vnd.jupyter.widget-view+json": {
              "model_id": "f310aec7a8de4b55a534ec9166eaf602",
              "version_major": 2,
              "version_minor": 0
            },
            "text/plain": [
              "Downloading:   0%|          |"
            ]
          },
          "metadata": {},
          "output_type": "display_data"
        },
        {
          "data": {
            "text/html": [
              "<div>\n",
              "<style scoped>\n",
              "    .dataframe tbody tr th:only-of-type {\n",
              "        vertical-align: middle;\n",
              "    }\n",
              "\n",
              "    .dataframe tbody tr th {\n",
              "        vertical-align: top;\n",
              "    }\n",
              "\n",
              "    .dataframe thead th {\n",
              "        text-align: right;\n",
              "    }\n",
              "</style>\n",
              "<table border=\"1\" class=\"dataframe\">\n",
              "  <thead>\n",
              "    <tr style=\"text-align: right;\">\n",
              "      <th></th>\n",
              "      <th>secid</th>\n",
              "      <th>date</th>\n",
              "      <th>exdate</th>\n",
              "      <th>cp_flag</th>\n",
              "      <th>strike_price</th>\n",
              "      <th>impl_volatility</th>\n",
              "      <th>best_bid</th>\n",
              "      <th>best_offer</th>\n",
              "    </tr>\n",
              "  </thead>\n",
              "  <tbody>\n",
              "    <tr>\n",
              "      <th>0</th>\n",
              "      <td>112878</td>\n",
              "      <td>2021-09-17</td>\n",
              "      <td>2023-12-15</td>\n",
              "      <td>P</td>\n",
              "      <td>1960000</td>\n",
              "      <td>0.199542</td>\n",
              "      <td>217.5</td>\n",
              "      <td>240.0</td>\n",
              "    </tr>\n",
              "    <tr>\n",
              "      <th>1</th>\n",
              "      <td>112878</td>\n",
              "      <td>2021-11-09</td>\n",
              "      <td>2023-12-15</td>\n",
              "      <td>P</td>\n",
              "      <td>2100000</td>\n",
              "      <td>0.194777</td>\n",
              "      <td>218.0</td>\n",
              "      <td>242.0</td>\n",
              "    </tr>\n",
              "    <tr>\n",
              "      <th>2</th>\n",
              "      <td>102480</td>\n",
              "      <td>2018-12-11</td>\n",
              "      <td>2019-01-11</td>\n",
              "      <td>C</td>\n",
              "      <td>5400000</td>\n",
              "      <td>0.409200</td>\n",
              "      <td>1313.1</td>\n",
              "      <td>1326.8</td>\n",
              "    </tr>\n",
              "    <tr>\n",
              "      <th>3</th>\n",
              "      <td>102434</td>\n",
              "      <td>2021-10-25</td>\n",
              "      <td>2022-09-30</td>\n",
              "      <td>P</td>\n",
              "      <td>2400000</td>\n",
              "      <td>0.211423</td>\n",
              "      <td>238.0</td>\n",
              "      <td>262.0</td>\n",
              "    </tr>\n",
              "    <tr>\n",
              "      <th>4</th>\n",
              "      <td>102434</td>\n",
              "      <td>2021-12-17</td>\n",
              "      <td>2022-09-30</td>\n",
              "      <td>P</td>\n",
              "      <td>2170000</td>\n",
              "      <td>0.251260</td>\n",
              "      <td>186.5</td>\n",
              "      <td>202.5</td>\n",
              "    </tr>\n",
              "  </tbody>\n",
              "</table>\n",
              "</div>"
            ],
            "text/plain": [
              "    secid        date      exdate cp_flag  strike_price  impl_volatility  \\\n",
              "0  112878  2021-09-17  2023-12-15       P       1960000         0.199542   \n",
              "1  112878  2021-11-09  2023-12-15       P       2100000         0.194777   \n",
              "2  102480  2018-12-11  2019-01-11       C       5400000         0.409200   \n",
              "3  102434  2021-10-25  2022-09-30       P       2400000         0.211423   \n",
              "4  102434  2021-12-17  2022-09-30       P       2170000         0.251260   \n",
              "\n",
              "   best_bid  best_offer  \n",
              "0     217.5       240.0  \n",
              "1     218.0       242.0  \n",
              "2    1313.1      1326.8  \n",
              "3     238.0       262.0  \n",
              "4     186.5       202.5  "
            ]
          },
          "execution_count": 49,
          "metadata": {},
          "output_type": "execute_result"
        }
      ],
      "source": [
        "%%bigquery\n",
        "# Preview Options_Indexes\n",
        "SELECT * FROM `acms80695-384817.Options_Dataset.Options_Indexes` LIMIT 5"
      ]
    },
    {
      "attachments": {},
      "cell_type": "markdown",
      "id": "24636cae-39a9-4be7-9e4d-da5bbb3a9cf5",
      "metadata": {
        "id": "24636cae-39a9-4be7-9e4d-da5bbb3a9cf5"
      },
      "source": [
        "## Join Options_Indexes with Security_Rate_Div"
      ]
    },
    {
      "cell_type": "code",
      "execution_count": null,
      "id": "4f0eae9c-7ee1-4dd8-9d78-28e5b1b8d24a",
      "metadata": {
        "colab": {
          "referenced_widgets": [
            "64d4a2ae668c4bd2aafdb2627491c8fa"
          ]
        },
        "id": "4f0eae9c-7ee1-4dd8-9d78-28e5b1b8d24a",
        "outputId": "e10b15ae-ce15-472d-a3f6-5e4c3d20f24e"
      },
      "outputs": [
        {
          "data": {
            "application/vnd.jupyter.widget-view+json": {
              "model_id": "64d4a2ae668c4bd2aafdb2627491c8fa",
              "version_major": 2,
              "version_minor": 0
            },
            "text/plain": [
              "Query is running:   0%|          |"
            ]
          },
          "metadata": {},
          "output_type": "display_data"
        },
        {
          "data": {
            "text/html": [
              "<div>\n",
              "<style scoped>\n",
              "    .dataframe tbody tr th:only-of-type {\n",
              "        vertical-align: middle;\n",
              "    }\n",
              "\n",
              "    .dataframe tbody tr th {\n",
              "        vertical-align: top;\n",
              "    }\n",
              "\n",
              "    .dataframe thead th {\n",
              "        text-align: right;\n",
              "    }\n",
              "</style>\n",
              "<table border=\"1\" class=\"dataframe\">\n",
              "  <thead>\n",
              "    <tr style=\"text-align: right;\">\n",
              "      <th></th>\n",
              "    </tr>\n",
              "  </thead>\n",
              "  <tbody>\n",
              "  </tbody>\n",
              "</table>\n",
              "</div>"
            ],
            "text/plain": [
              "Empty DataFrame\n",
              "Columns: []\n",
              "Index: []"
            ]
          },
          "execution_count": 56,
          "metadata": {},
          "output_type": "execute_result"
        }
      ],
      "source": [
        "%%bigquery\n",
        "# Join Options_Indexes with Security_Rate_Div\n",
        "# - The GROUP BY clause groups the result set by secid, date, strike_price, and cp_flag. The MAX aggregate\n",
        "#   function is then applied within each group for the remaining fields. For each combination of secid,\n",
        "#   date, strike_price, and cp_flag, the query selects the row with the maximum (latest) value of exdate,\n",
        "#   impl_volatility, best_bid, best_offer, under_price, zero_coupon, and div_yield.\n",
        "CREATE VIEW `acms80695-384817.Options_Dataset.Options_Security` AS\n",
        "SELECT\n",
        "  t1.secid,\n",
        "  t1.date,\n",
        "  t1.strike_price,\n",
        "  t1.cp_flag,\n",
        "  MAX(t1.exdate) AS exdate,\n",
        "  MAX(t1.impl_volatility) AS impl_volatility,\n",
        "  MAX(t1.best_bid) AS best_bid,\n",
        "  MAX(t1.best_offer) AS best_offer,\n",
        "  MAX(t2.under_price) AS under_price,\n",
        "  MAX(t2.zero_coupon) AS zero_coupon,\n",
        "  MAX(t2.div_yield) AS div_yield\n",
        "FROM\n",
        "  `acms80695-384817.Options_Dataset.Options_Indexes` AS t1\n",
        "LEFT JOIN\n",
        "  `acms80695-384817.Options_Dataset.Security_Rate_Div` AS t2\n",
        "ON\n",
        "  t1.secid = t2.secid AND t1.date = t2.date\n",
        "GROUP BY\n",
        "  t1.secid, t1.date, t1.strike_price, t1.cp_flag"
      ]
    },
    {
      "cell_type": "code",
      "execution_count": null,
      "id": "1c0fa5e9-9e5e-43c5-a9ee-f1137058f550",
      "metadata": {
        "colab": {
          "referenced_widgets": [
            "81d511104c61494fbfdae7a8667c91b4",
            "e55d1c7e3aeb43cd82c2d5f78f110133"
          ]
        },
        "id": "1c0fa5e9-9e5e-43c5-a9ee-f1137058f550",
        "outputId": "eb63ca2e-1127-4f51-9875-85e152661e62"
      },
      "outputs": [
        {
          "data": {
            "application/vnd.jupyter.widget-view+json": {
              "model_id": "81d511104c61494fbfdae7a8667c91b4",
              "version_major": 2,
              "version_minor": 0
            },
            "text/plain": [
              "Query is running:   0%|          |"
            ]
          },
          "metadata": {},
          "output_type": "display_data"
        },
        {
          "data": {
            "application/vnd.jupyter.widget-view+json": {
              "model_id": "e55d1c7e3aeb43cd82c2d5f78f110133",
              "version_major": 2,
              "version_minor": 0
            },
            "text/plain": [
              "Downloading:   0%|          |"
            ]
          },
          "metadata": {},
          "output_type": "display_data"
        },
        {
          "data": {
            "text/html": [
              "<div>\n",
              "<style scoped>\n",
              "    .dataframe tbody tr th:only-of-type {\n",
              "        vertical-align: middle;\n",
              "    }\n",
              "\n",
              "    .dataframe tbody tr th {\n",
              "        vertical-align: top;\n",
              "    }\n",
              "\n",
              "    .dataframe thead th {\n",
              "        text-align: right;\n",
              "    }\n",
              "</style>\n",
              "<table border=\"1\" class=\"dataframe\">\n",
              "  <thead>\n",
              "    <tr style=\"text-align: right;\">\n",
              "      <th></th>\n",
              "      <th>secid</th>\n",
              "      <th>date</th>\n",
              "      <th>strike_price</th>\n",
              "      <th>cp_flag</th>\n",
              "      <th>exdate</th>\n",
              "      <th>impl_volatility</th>\n",
              "      <th>best_bid</th>\n",
              "      <th>best_offer</th>\n",
              "      <th>under_price</th>\n",
              "      <th>zero_coupon</th>\n",
              "      <th>div_yield</th>\n",
              "    </tr>\n",
              "  </thead>\n",
              "  <tbody>\n",
              "    <tr>\n",
              "      <th>0</th>\n",
              "      <td>102480</td>\n",
              "      <td>2020-07-27</td>\n",
              "      <td>9775000</td>\n",
              "      <td>P</td>\n",
              "      <td>2020-09-04</td>\n",
              "      <td>0.452714</td>\n",
              "      <td>146.3</td>\n",
              "      <td>149.0</td>\n",
              "      <td>10674.380000000</td>\n",
              "      <td>0.351734</td>\n",
              "      <td>0.830924</td>\n",
              "    </tr>\n",
              "    <tr>\n",
              "      <th>1</th>\n",
              "      <td>188874</td>\n",
              "      <td>2019-08-21</td>\n",
              "      <td>955000</td>\n",
              "      <td>C</td>\n",
              "      <td>2019-12-20</td>\n",
              "      <td>0.194225</td>\n",
              "      <td>56.4</td>\n",
              "      <td>62.2</td>\n",
              "      <td>983.140000000</td>\n",
              "      <td>1.595574</td>\n",
              "      <td>1.379571</td>\n",
              "    </tr>\n",
              "    <tr>\n",
              "      <th>2</th>\n",
              "      <td>100936</td>\n",
              "      <td>2006-12-21</td>\n",
              "      <td>250000</td>\n",
              "      <td>C</td>\n",
              "      <td>2007-12-22</td>\n",
              "      <td>0.523276</td>\n",
              "      <td>97.5</td>\n",
              "      <td>100.5</td>\n",
              "      <td>327.550000000</td>\n",
              "      <td>5.052379</td>\n",
              "      <td>1.726047</td>\n",
              "    </tr>\n",
              "    <tr>\n",
              "      <th>3</th>\n",
              "      <td>112878</td>\n",
              "      <td>2014-10-22</td>\n",
              "      <td>850000</td>\n",
              "      <td>P</td>\n",
              "      <td>2015-12-19</td>\n",
              "      <td>0.193258</td>\n",
              "      <td>63.4</td>\n",
              "      <td>66.0</td>\n",
              "      <td>857.280000000</td>\n",
              "      <td>1.385238</td>\n",
              "      <td>2.240892</td>\n",
              "    </tr>\n",
              "    <tr>\n",
              "      <th>4</th>\n",
              "      <td>150513</td>\n",
              "      <td>2016-06-10</td>\n",
              "      <td>1450000</td>\n",
              "      <td>C</td>\n",
              "      <td>2018-12-21</td>\n",
              "      <td>0.479303</td>\n",
              "      <td>643.0</td>\n",
              "      <td>651.7</td>\n",
              "      <td>2096.070000000</td>\n",
              "      <td>1.103956</td>\n",
              "      <td>2.309001</td>\n",
              "    </tr>\n",
              "  </tbody>\n",
              "</table>\n",
              "</div>"
            ],
            "text/plain": [
              "    secid        date  strike_price cp_flag      exdate  impl_volatility  \\\n",
              "0  102480  2020-07-27       9775000       P  2020-09-04         0.452714   \n",
              "1  188874  2019-08-21        955000       C  2019-12-20         0.194225   \n",
              "2  100936  2006-12-21        250000       C  2007-12-22         0.523276   \n",
              "3  112878  2014-10-22        850000       P  2015-12-19         0.193258   \n",
              "4  150513  2016-06-10       1450000       C  2018-12-21         0.479303   \n",
              "\n",
              "   best_bid  best_offer      under_price  zero_coupon  div_yield  \n",
              "0     146.3       149.0  10674.380000000     0.351734   0.830924  \n",
              "1      56.4        62.2    983.140000000     1.595574   1.379571  \n",
              "2      97.5       100.5    327.550000000     5.052379   1.726047  \n",
              "3      63.4        66.0    857.280000000     1.385238   2.240892  \n",
              "4     643.0       651.7   2096.070000000     1.103956   2.309001  "
            ]
          },
          "execution_count": 57,
          "metadata": {},
          "output_type": "execute_result"
        }
      ],
      "source": [
        "%%bigquery\n",
        "# Preview Options_Security\n",
        "SELECT * FROM `acms80695-384817.Options_Dataset.Options_Security` LIMIT 5"
      ]
    },
    {
      "attachments": {},
      "cell_type": "markdown",
      "id": "693f0b47-c962-4b52-a3db-9349e46e117c",
      "metadata": {
        "id": "693f0b47-c962-4b52-a3db-9349e46e117c"
      },
      "source": [
        "# Feature Engineering"
      ]
    },
    {
      "cell_type": "code",
      "execution_count": null,
      "id": "ee8dbea8-ced2-44f1-844e-340831c391df",
      "metadata": {
        "colab": {
          "referenced_widgets": [
            "14747ee27949483aab0f8b1a66d5dee9"
          ]
        },
        "id": "ee8dbea8-ced2-44f1-844e-340831c391df",
        "outputId": "34a730d6-25ba-4e82-c0e3-5609e6d3e547"
      },
      "outputs": [
        {
          "data": {
            "application/vnd.jupyter.widget-view+json": {
              "model_id": "14747ee27949483aab0f8b1a66d5dee9",
              "version_major": 2,
              "version_minor": 0
            },
            "text/plain": [
              "Query is running:   0%|          |"
            ]
          },
          "metadata": {},
          "output_type": "display_data"
        },
        {
          "data": {
            "text/html": [
              "<div>\n",
              "<style scoped>\n",
              "    .dataframe tbody tr th:only-of-type {\n",
              "        vertical-align: middle;\n",
              "    }\n",
              "\n",
              "    .dataframe tbody tr th {\n",
              "        vertical-align: top;\n",
              "    }\n",
              "\n",
              "    .dataframe thead th {\n",
              "        text-align: right;\n",
              "    }\n",
              "</style>\n",
              "<table border=\"1\" class=\"dataframe\">\n",
              "  <thead>\n",
              "    <tr style=\"text-align: right;\">\n",
              "      <th></th>\n",
              "    </tr>\n",
              "  </thead>\n",
              "  <tbody>\n",
              "  </tbody>\n",
              "</table>\n",
              "</div>"
            ],
            "text/plain": [
              "Empty DataFrame\n",
              "Columns: []\n",
              "Index: []"
            ]
          },
          "execution_count": 58,
          "metadata": {},
          "output_type": "execute_result"
        }
      ],
      "source": [
        "%%bigquery\n",
        "# Feature Engineering\n",
        "# - Calculate the midpoint price as the average between the bid and ask prices\n",
        "# - Creating a new binary column \"opt_type\" that identifies whether the option is a call or put\n",
        "# - Calculate the time to expiration in years from the difference between the expiration date (exdate) and the date\n",
        "CREATE VIEW `acms80695-384817.Options_Dataset.Options_Features` AS\n",
        "SELECT\n",
        "  secid,\n",
        "  `date`,\n",
        "  strike_price,\n",
        "  impl_volatility,\n",
        "  under_price,\n",
        "  zero_coupon,\n",
        "  div_yield,\n",
        "  (best_bid + best_offer)/2 AS midpoint,\n",
        "  CASE\n",
        "    WHEN cp_flag = 'C' THEN 1\n",
        "    ELSE 0\n",
        "  END AS opt_type,\n",
        "  DATE_DIFF(TIMESTAMP(exdate), TIMESTAMP(`date`), DAY)/365.25 AS time\n",
        "FROM\n",
        "  `acms80695-384817.Options_Dataset.Options_Security`"
      ]
    },
    {
      "cell_type": "code",
      "execution_count": null,
      "id": "e9fbc622-e817-46ab-8af4-9858405b6209",
      "metadata": {
        "colab": {
          "referenced_widgets": [
            "9f47f011bf934117a04f01df670956cd",
            "749237efbf3141d0b6d211a7a4fe2bac"
          ]
        },
        "id": "e9fbc622-e817-46ab-8af4-9858405b6209",
        "outputId": "8202f41b-4527-4f8b-bce5-6d1c5b4cde60"
      },
      "outputs": [
        {
          "data": {
            "application/vnd.jupyter.widget-view+json": {
              "model_id": "9f47f011bf934117a04f01df670956cd",
              "version_major": 2,
              "version_minor": 0
            },
            "text/plain": [
              "Query is running:   0%|          |"
            ]
          },
          "metadata": {},
          "output_type": "display_data"
        },
        {
          "data": {
            "application/vnd.jupyter.widget-view+json": {
              "model_id": "749237efbf3141d0b6d211a7a4fe2bac",
              "version_major": 2,
              "version_minor": 0
            },
            "text/plain": [
              "Downloading:   0%|          |"
            ]
          },
          "metadata": {},
          "output_type": "display_data"
        },
        {
          "data": {
            "text/html": [
              "<div>\n",
              "<style scoped>\n",
              "    .dataframe tbody tr th:only-of-type {\n",
              "        vertical-align: middle;\n",
              "    }\n",
              "\n",
              "    .dataframe tbody tr th {\n",
              "        vertical-align: top;\n",
              "    }\n",
              "\n",
              "    .dataframe thead th {\n",
              "        text-align: right;\n",
              "    }\n",
              "</style>\n",
              "<table border=\"1\" class=\"dataframe\">\n",
              "  <thead>\n",
              "    <tr style=\"text-align: right;\">\n",
              "      <th></th>\n",
              "      <th>secid</th>\n",
              "      <th>date</th>\n",
              "      <th>strike_price</th>\n",
              "      <th>impl_volatility</th>\n",
              "      <th>under_price</th>\n",
              "      <th>zero_coupon</th>\n",
              "      <th>div_yield</th>\n",
              "      <th>midpoint</th>\n",
              "      <th>opt_type</th>\n",
              "      <th>time</th>\n",
              "    </tr>\n",
              "  </thead>\n",
              "  <tbody>\n",
              "    <tr>\n",
              "      <th>0</th>\n",
              "      <td>108105</td>\n",
              "      <td>2018-08-08</td>\n",
              "      <td>3050000</td>\n",
              "      <td>0.293748</td>\n",
              "      <td>2857.700000000</td>\n",
              "      <td>2.853480</td>\n",
              "      <td>1.812379</td>\n",
              "      <td>53.700</td>\n",
              "      <td>1</td>\n",
              "      <td>0.887064</td>\n",
              "    </tr>\n",
              "    <tr>\n",
              "      <th>1</th>\n",
              "      <td>116026</td>\n",
              "      <td>2011-08-01</td>\n",
              "      <td>95000</td>\n",
              "      <td>0.326549</td>\n",
              "      <td>100.180000000</td>\n",
              "      <td>1.465541</td>\n",
              "      <td>0.000000</td>\n",
              "      <td>7.500</td>\n",
              "      <td>0</td>\n",
              "      <td>0.626968</td>\n",
              "    </tr>\n",
              "    <tr>\n",
              "      <th>2</th>\n",
              "      <td>115464</td>\n",
              "      <td>2021-08-16</td>\n",
              "      <td>2230000</td>\n",
              "      <td>0.270288</td>\n",
              "      <td>2362.760000000</td>\n",
              "      <td>0.718279</td>\n",
              "      <td>2.024226</td>\n",
              "      <td>102.600</td>\n",
              "      <td>0</td>\n",
              "      <td>0.835044</td>\n",
              "    </tr>\n",
              "    <tr>\n",
              "      <th>3</th>\n",
              "      <td>112878</td>\n",
              "      <td>2019-07-31</td>\n",
              "      <td>1355000</td>\n",
              "      <td>0.123277</td>\n",
              "      <td>1317.090000000</td>\n",
              "      <td>1.960606</td>\n",
              "      <td>2.351313</td>\n",
              "      <td>62.550</td>\n",
              "      <td>0</td>\n",
              "      <td>0.388775</td>\n",
              "    </tr>\n",
              "    <tr>\n",
              "      <th>4</th>\n",
              "      <td>189691</td>\n",
              "      <td>2019-09-16</td>\n",
              "      <td>285000</td>\n",
              "      <td>0.307065</td>\n",
              "      <td>299.800000000</td>\n",
              "      <td>1.771198</td>\n",
              "      <td>1.887187</td>\n",
              "      <td>16.925</td>\n",
              "      <td>0</td>\n",
              "      <td>1.256674</td>\n",
              "    </tr>\n",
              "  </tbody>\n",
              "</table>\n",
              "</div>"
            ],
            "text/plain": [
              "    secid        date  strike_price  impl_volatility     under_price  \\\n",
              "0  108105  2018-08-08       3050000         0.293748  2857.700000000   \n",
              "1  116026  2011-08-01         95000         0.326549   100.180000000   \n",
              "2  115464  2021-08-16       2230000         0.270288  2362.760000000   \n",
              "3  112878  2019-07-31       1355000         0.123277  1317.090000000   \n",
              "4  189691  2019-09-16        285000         0.307065   299.800000000   \n",
              "\n",
              "   zero_coupon  div_yield  midpoint  opt_type      time  \n",
              "0     2.853480   1.812379    53.700         1  0.887064  \n",
              "1     1.465541   0.000000     7.500         0  0.626968  \n",
              "2     0.718279   2.024226   102.600         0  0.835044  \n",
              "3     1.960606   2.351313    62.550         0  0.388775  \n",
              "4     1.771198   1.887187    16.925         0  1.256674  "
            ]
          },
          "execution_count": 60,
          "metadata": {},
          "output_type": "execute_result"
        }
      ],
      "source": [
        "%%bigquery\n",
        "# Preview Options_Features\n",
        "SELECT * FROM `acms80695-384817.Options_Dataset.Options_Features` LIMIT 5"
      ]
    },
    {
      "attachments": {},
      "cell_type": "markdown",
      "id": "52631211-7437-43e9-afa5-e68d3f33cd90",
      "metadata": {
        "id": "52631211-7437-43e9-afa5-e68d3f33cd90"
      },
      "source": [
        "## Calculate the Price Lags for the Past 20 Trading Days"
      ]
    },
    {
      "cell_type": "code",
      "execution_count": null,
      "id": "14d61146-78b5-4999-b7c8-aa3123df9cec",
      "metadata": {
        "colab": {
          "referenced_widgets": [
            "f3d246ea5a9f404e823e3e70dcf4cb21"
          ]
        },
        "id": "14d61146-78b5-4999-b7c8-aa3123df9cec",
        "outputId": "73c6909b-2df3-4040-c078-d4301886311b"
      },
      "outputs": [
        {
          "data": {
            "application/vnd.jupyter.widget-view+json": {
              "model_id": "f3d246ea5a9f404e823e3e70dcf4cb21",
              "version_major": 2,
              "version_minor": 0
            },
            "text/plain": [
              "Query is running:   0%|          |"
            ]
          },
          "metadata": {},
          "output_type": "display_data"
        },
        {
          "data": {
            "text/html": [
              "<div>\n",
              "<style scoped>\n",
              "    .dataframe tbody tr th:only-of-type {\n",
              "        vertical-align: middle;\n",
              "    }\n",
              "\n",
              "    .dataframe tbody tr th {\n",
              "        vertical-align: top;\n",
              "    }\n",
              "\n",
              "    .dataframe thead th {\n",
              "        text-align: right;\n",
              "    }\n",
              "</style>\n",
              "<table border=\"1\" class=\"dataframe\">\n",
              "  <thead>\n",
              "    <tr style=\"text-align: right;\">\n",
              "      <th></th>\n",
              "    </tr>\n",
              "  </thead>\n",
              "  <tbody>\n",
              "  </tbody>\n",
              "</table>\n",
              "</div>"
            ],
            "text/plain": [
              "Empty DataFrame\n",
              "Columns: []\n",
              "Index: []"
            ]
          },
          "execution_count": 62,
          "metadata": {},
          "output_type": "execute_result"
        }
      ],
      "source": [
        "%%bigquery\n",
        "# Calculate the Price Lags for the Past 20 Trading Days\n",
        "CREATE VIEW `acms80695-384817.Options_Dataset.Price_Lags` AS\n",
        "SELECT\n",
        "  secid,\n",
        "  `date`,\n",
        "  under_price,\n",
        "  LAG(under_price, 1) OVER (PARTITION BY secid ORDER BY date) AS under_lag1,\n",
        "  LAG(under_price, 2) OVER (PARTITION BY secid ORDER BY date) AS under_lag2,\n",
        "  LAG(under_price, 3) OVER (PARTITION BY secid ORDER BY date) AS under_lag3,\n",
        "  LAG(under_price, 4) OVER (PARTITION BY secid ORDER BY date) AS under_lag4,\n",
        "  LAG(under_price, 5) OVER (PARTITION BY secid ORDER BY date) AS under_lag5,\n",
        "  LAG(under_price, 6) OVER (PARTITION BY secid ORDER BY date) AS under_lag6,\n",
        "  LAG(under_price, 7) OVER (PARTITION BY secid ORDER BY date) AS under_lag7,\n",
        "  LAG(under_price, 8) OVER (PARTITION BY secid ORDER BY date) AS under_lag8,\n",
        "  LAG(under_price, 9) OVER (PARTITION BY secid ORDER BY date) AS under_lag9,\n",
        "  LAG(under_price, 10) OVER (PARTITION BY secid ORDER BY date) AS under_lag10,\n",
        "  LAG(under_price, 11) OVER (PARTITION BY secid ORDER BY date) AS under_lag11,\n",
        "  LAG(under_price, 12) OVER (PARTITION BY secid ORDER BY date) AS under_lag12,\n",
        "  LAG(under_price, 13) OVER (PARTITION BY secid ORDER BY date) AS under_lag13,\n",
        "  LAG(under_price, 14) OVER (PARTITION BY secid ORDER BY date) AS under_lag14,\n",
        "  LAG(under_price, 15) OVER (PARTITION BY secid ORDER BY date) AS under_lag15,\n",
        "  LAG(under_price, 16) OVER (PARTITION BY secid ORDER BY date) AS under_lag16,\n",
        "  LAG(under_price, 17) OVER (PARTITION BY secid ORDER BY date) AS under_lag17,\n",
        "  LAG(under_price, 18) OVER (PARTITION BY secid ORDER BY date) AS under_lag18,\n",
        "  LAG(under_price, 19) OVER (PARTITION BY secid ORDER BY date) AS under_lag19,\n",
        "  LAG(under_price, 20) OVER (PARTITION BY secid ORDER BY date) AS under_lag20\n",
        "FROM\n",
        "  (SELECT\n",
        "    secid, `date`, under_price\n",
        "  FROM `acms80695-384817.Options_Dataset.Security_Rate_Div`\n",
        "  ORDER BY secid, `date`)"
      ]
    },
    {
      "cell_type": "code",
      "execution_count": null,
      "id": "c23d6de8-a020-446e-a964-45e86f5327dd",
      "metadata": {
        "colab": {
          "referenced_widgets": [
            "8211273021294afe8ddc2d2d9b847210",
            "a765df9578e7471a9a6d081965606607"
          ]
        },
        "id": "c23d6de8-a020-446e-a964-45e86f5327dd",
        "outputId": "2ffd022f-82fc-44ae-c675-1a4d0a59d562"
      },
      "outputs": [
        {
          "data": {
            "application/vnd.jupyter.widget-view+json": {
              "model_id": "8211273021294afe8ddc2d2d9b847210",
              "version_major": 2,
              "version_minor": 0
            },
            "text/plain": [
              "Query is running:   0%|          |"
            ]
          },
          "metadata": {},
          "output_type": "display_data"
        },
        {
          "data": {
            "application/vnd.jupyter.widget-view+json": {
              "model_id": "a765df9578e7471a9a6d081965606607",
              "version_major": 2,
              "version_minor": 0
            },
            "text/plain": [
              "Downloading:   0%|          |"
            ]
          },
          "metadata": {},
          "output_type": "display_data"
        },
        {
          "data": {
            "text/html": [
              "<div>\n",
              "<style scoped>\n",
              "    .dataframe tbody tr th:only-of-type {\n",
              "        vertical-align: middle;\n",
              "    }\n",
              "\n",
              "    .dataframe tbody tr th {\n",
              "        vertical-align: top;\n",
              "    }\n",
              "\n",
              "    .dataframe thead th {\n",
              "        text-align: right;\n",
              "    }\n",
              "</style>\n",
              "<table border=\"1\" class=\"dataframe\">\n",
              "  <thead>\n",
              "    <tr style=\"text-align: right;\">\n",
              "      <th></th>\n",
              "      <th>secid</th>\n",
              "      <th>date</th>\n",
              "      <th>under_price</th>\n",
              "      <th>under_lag1</th>\n",
              "      <th>under_lag2</th>\n",
              "      <th>under_lag3</th>\n",
              "      <th>under_lag4</th>\n",
              "      <th>under_lag5</th>\n",
              "      <th>under_lag6</th>\n",
              "      <th>under_lag7</th>\n",
              "      <th>...</th>\n",
              "      <th>under_lag11</th>\n",
              "      <th>under_lag12</th>\n",
              "      <th>under_lag13</th>\n",
              "      <th>under_lag14</th>\n",
              "      <th>under_lag15</th>\n",
              "      <th>under_lag16</th>\n",
              "      <th>under_lag17</th>\n",
              "      <th>under_lag18</th>\n",
              "      <th>under_lag19</th>\n",
              "      <th>under_lag20</th>\n",
              "    </tr>\n",
              "  </thead>\n",
              "  <tbody>\n",
              "    <tr>\n",
              "      <th>0</th>\n",
              "      <td>100051</td>\n",
              "      <td>2000-11-28</td>\n",
              "      <td>-2.485000000</td>\n",
              "      <td>None</td>\n",
              "      <td>None</td>\n",
              "      <td>None</td>\n",
              "      <td>None</td>\n",
              "      <td>None</td>\n",
              "      <td>None</td>\n",
              "      <td>None</td>\n",
              "      <td>...</td>\n",
              "      <td>None</td>\n",
              "      <td>None</td>\n",
              "      <td>None</td>\n",
              "      <td>None</td>\n",
              "      <td>None</td>\n",
              "      <td>None</td>\n",
              "      <td>None</td>\n",
              "      <td>None</td>\n",
              "      <td>None</td>\n",
              "      <td>None</td>\n",
              "    </tr>\n",
              "    <tr>\n",
              "      <th>1</th>\n",
              "      <td>100051</td>\n",
              "      <td>2000-11-29</td>\n",
              "      <td>-2.476000000</td>\n",
              "      <td>-2.485000000</td>\n",
              "      <td>None</td>\n",
              "      <td>None</td>\n",
              "      <td>None</td>\n",
              "      <td>None</td>\n",
              "      <td>None</td>\n",
              "      <td>None</td>\n",
              "      <td>...</td>\n",
              "      <td>None</td>\n",
              "      <td>None</td>\n",
              "      <td>None</td>\n",
              "      <td>None</td>\n",
              "      <td>None</td>\n",
              "      <td>None</td>\n",
              "      <td>None</td>\n",
              "      <td>None</td>\n",
              "      <td>None</td>\n",
              "      <td>None</td>\n",
              "    </tr>\n",
              "    <tr>\n",
              "      <th>2</th>\n",
              "      <td>100051</td>\n",
              "      <td>2000-11-30</td>\n",
              "      <td>-2.520000000</td>\n",
              "      <td>-2.476000000</td>\n",
              "      <td>-2.485000000</td>\n",
              "      <td>None</td>\n",
              "      <td>None</td>\n",
              "      <td>None</td>\n",
              "      <td>None</td>\n",
              "      <td>None</td>\n",
              "      <td>...</td>\n",
              "      <td>None</td>\n",
              "      <td>None</td>\n",
              "      <td>None</td>\n",
              "      <td>None</td>\n",
              "      <td>None</td>\n",
              "      <td>None</td>\n",
              "      <td>None</td>\n",
              "      <td>None</td>\n",
              "      <td>None</td>\n",
              "      <td>None</td>\n",
              "    </tr>\n",
              "    <tr>\n",
              "      <th>3</th>\n",
              "      <td>100051</td>\n",
              "      <td>2000-12-01</td>\n",
              "      <td>-2.531000000</td>\n",
              "      <td>-2.520000000</td>\n",
              "      <td>-2.476000000</td>\n",
              "      <td>-2.485000000</td>\n",
              "      <td>None</td>\n",
              "      <td>None</td>\n",
              "      <td>None</td>\n",
              "      <td>None</td>\n",
              "      <td>...</td>\n",
              "      <td>None</td>\n",
              "      <td>None</td>\n",
              "      <td>None</td>\n",
              "      <td>None</td>\n",
              "      <td>None</td>\n",
              "      <td>None</td>\n",
              "      <td>None</td>\n",
              "      <td>None</td>\n",
              "      <td>None</td>\n",
              "      <td>None</td>\n",
              "    </tr>\n",
              "    <tr>\n",
              "      <th>4</th>\n",
              "      <td>100051</td>\n",
              "      <td>2000-12-04</td>\n",
              "      <td>-2.548000000</td>\n",
              "      <td>-2.531000000</td>\n",
              "      <td>-2.520000000</td>\n",
              "      <td>-2.476000000</td>\n",
              "      <td>-2.485000000</td>\n",
              "      <td>None</td>\n",
              "      <td>None</td>\n",
              "      <td>None</td>\n",
              "      <td>...</td>\n",
              "      <td>None</td>\n",
              "      <td>None</td>\n",
              "      <td>None</td>\n",
              "      <td>None</td>\n",
              "      <td>None</td>\n",
              "      <td>None</td>\n",
              "      <td>None</td>\n",
              "      <td>None</td>\n",
              "      <td>None</td>\n",
              "      <td>None</td>\n",
              "    </tr>\n",
              "  </tbody>\n",
              "</table>\n",
              "<p>5 rows × 23 columns</p>\n",
              "</div>"
            ],
            "text/plain": [
              "    secid        date   under_price    under_lag1    under_lag2    under_lag3  \\\n",
              "0  100051  2000-11-28  -2.485000000          None          None          None   \n",
              "1  100051  2000-11-29  -2.476000000  -2.485000000          None          None   \n",
              "2  100051  2000-11-30  -2.520000000  -2.476000000  -2.485000000          None   \n",
              "3  100051  2000-12-01  -2.531000000  -2.520000000  -2.476000000  -2.485000000   \n",
              "4  100051  2000-12-04  -2.548000000  -2.531000000  -2.520000000  -2.476000000   \n",
              "\n",
              "     under_lag4 under_lag5 under_lag6 under_lag7  ... under_lag11 under_lag12  \\\n",
              "0          None       None       None       None  ...        None        None   \n",
              "1          None       None       None       None  ...        None        None   \n",
              "2          None       None       None       None  ...        None        None   \n",
              "3          None       None       None       None  ...        None        None   \n",
              "4  -2.485000000       None       None       None  ...        None        None   \n",
              "\n",
              "  under_lag13 under_lag14 under_lag15 under_lag16 under_lag17 under_lag18  \\\n",
              "0        None        None        None        None        None        None   \n",
              "1        None        None        None        None        None        None   \n",
              "2        None        None        None        None        None        None   \n",
              "3        None        None        None        None        None        None   \n",
              "4        None        None        None        None        None        None   \n",
              "\n",
              "  under_lag19 under_lag20  \n",
              "0        None        None  \n",
              "1        None        None  \n",
              "2        None        None  \n",
              "3        None        None  \n",
              "4        None        None  \n",
              "\n",
              "[5 rows x 23 columns]"
            ]
          },
          "execution_count": 63,
          "metadata": {},
          "output_type": "execute_result"
        }
      ],
      "source": [
        "%%bigquery\n",
        "# Preview Price Lags\n",
        "SELECT * FROM `acms80695-384817.Options_Dataset.Price_Lags` LIMIT 5"
      ]
    },
    {
      "attachments": {},
      "cell_type": "markdown",
      "id": "c3c9fcef-9af9-434f-8881-5607136de346",
      "metadata": {
        "id": "c3c9fcef-9af9-434f-8881-5607136de346"
      },
      "source": [
        "## Join the Options_Features and Price_Lags Tables"
      ]
    },
    {
      "cell_type": "code",
      "execution_count": null,
      "id": "3c351f2a-6907-402f-a648-c2506532f294",
      "metadata": {
        "colab": {
          "referenced_widgets": [
            "471e573c9b5c44f386ab98ca6665caf1"
          ]
        },
        "id": "3c351f2a-6907-402f-a648-c2506532f294",
        "outputId": "8aa98678-997f-45fa-dae6-b6d7a1f77008"
      },
      "outputs": [
        {
          "data": {
            "application/vnd.jupyter.widget-view+json": {
              "model_id": "471e573c9b5c44f386ab98ca6665caf1",
              "version_major": 2,
              "version_minor": 0
            },
            "text/plain": [
              "Query is running:   0%|          |"
            ]
          },
          "metadata": {},
          "output_type": "display_data"
        },
        {
          "data": {
            "text/html": [
              "<div>\n",
              "<style scoped>\n",
              "    .dataframe tbody tr th:only-of-type {\n",
              "        vertical-align: middle;\n",
              "    }\n",
              "\n",
              "    .dataframe tbody tr th {\n",
              "        vertical-align: top;\n",
              "    }\n",
              "\n",
              "    .dataframe thead th {\n",
              "        text-align: right;\n",
              "    }\n",
              "</style>\n",
              "<table border=\"1\" class=\"dataframe\">\n",
              "  <thead>\n",
              "    <tr style=\"text-align: right;\">\n",
              "      <th></th>\n",
              "    </tr>\n",
              "  </thead>\n",
              "  <tbody>\n",
              "  </tbody>\n",
              "</table>\n",
              "</div>"
            ],
            "text/plain": [
              "Empty DataFrame\n",
              "Columns: []\n",
              "Index: []"
            ]
          },
          "execution_count": 71,
          "metadata": {},
          "output_type": "execute_result"
        }
      ],
      "source": [
        "%%bigquery\n",
        "# Join the Options_Features and Price_Lags Tables\n",
        "CREATE VIEW `acms80695-384817.Options_Dataset.Features_Prices` AS\n",
        "SELECT\n",
        "t1.*,\n",
        "t2.* EXCEPT(secid, date, under_price)\n",
        "FROM `Options_Dataset.Options_Features` as t1\n",
        "LEFT JOIN `Options_Dataset.Price_Lags` as t2\n",
        "ON t1.date = t2.date AND t1.secid = t2.secid AND t1.under_price = t2.under_price"
      ]
    },
    {
      "cell_type": "code",
      "execution_count": null,
      "id": "75f13d29-b4aa-4627-b2b2-e69699a6c53d",
      "metadata": {
        "colab": {
          "referenced_widgets": [
            "b27aa5a3281646ba875848f3e7925994",
            "da68936ba4014ab88816710b4247a1bc"
          ]
        },
        "id": "75f13d29-b4aa-4627-b2b2-e69699a6c53d",
        "outputId": "a3d2ecb5-8e54-4954-e638-55a4272331cc"
      },
      "outputs": [
        {
          "data": {
            "application/vnd.jupyter.widget-view+json": {
              "model_id": "b27aa5a3281646ba875848f3e7925994",
              "version_major": 2,
              "version_minor": 0
            },
            "text/plain": [
              "Query is running:   0%|          |"
            ]
          },
          "metadata": {},
          "output_type": "display_data"
        },
        {
          "data": {
            "application/vnd.jupyter.widget-view+json": {
              "model_id": "da68936ba4014ab88816710b4247a1bc",
              "version_major": 2,
              "version_minor": 0
            },
            "text/plain": [
              "Downloading:   0%|          |"
            ]
          },
          "metadata": {},
          "output_type": "display_data"
        },
        {
          "data": {
            "text/html": [
              "<div>\n",
              "<style scoped>\n",
              "    .dataframe tbody tr th:only-of-type {\n",
              "        vertical-align: middle;\n",
              "    }\n",
              "\n",
              "    .dataframe tbody tr th {\n",
              "        vertical-align: top;\n",
              "    }\n",
              "\n",
              "    .dataframe thead th {\n",
              "        text-align: right;\n",
              "    }\n",
              "</style>\n",
              "<table border=\"1\" class=\"dataframe\">\n",
              "  <thead>\n",
              "    <tr style=\"text-align: right;\">\n",
              "      <th></th>\n",
              "      <th>secid</th>\n",
              "      <th>date</th>\n",
              "      <th>strike_price</th>\n",
              "      <th>impl_volatility</th>\n",
              "      <th>under_price</th>\n",
              "      <th>zero_coupon</th>\n",
              "      <th>div_yield</th>\n",
              "      <th>midpoint</th>\n",
              "      <th>opt_type</th>\n",
              "      <th>time</th>\n",
              "      <th>...</th>\n",
              "      <th>under_lag11</th>\n",
              "      <th>under_lag12</th>\n",
              "      <th>under_lag13</th>\n",
              "      <th>under_lag14</th>\n",
              "      <th>under_lag15</th>\n",
              "      <th>under_lag16</th>\n",
              "      <th>under_lag17</th>\n",
              "      <th>under_lag18</th>\n",
              "      <th>under_lag19</th>\n",
              "      <th>under_lag20</th>\n",
              "    </tr>\n",
              "  </thead>\n",
              "  <tbody>\n",
              "    <tr>\n",
              "      <th>0</th>\n",
              "      <td>108105</td>\n",
              "      <td>2019-02-26</td>\n",
              "      <td>2965000</td>\n",
              "      <td>0.270749</td>\n",
              "      <td>2793.900000000</td>\n",
              "      <td>2.572459</td>\n",
              "      <td>1.871969</td>\n",
              "      <td>16.70</td>\n",
              "      <td>1</td>\n",
              "      <td>0.334018</td>\n",
              "      <td>...</td>\n",
              "      <td>2707.880000000</td>\n",
              "      <td>2706.050000000</td>\n",
              "      <td>2731.610000000</td>\n",
              "      <td>2737.700000000</td>\n",
              "      <td>2724.870000000</td>\n",
              "      <td>2706.530000000</td>\n",
              "      <td>2704.100000000</td>\n",
              "      <td>2681.050000000</td>\n",
              "      <td>2640.000000000</td>\n",
              "      <td>2643.850000000</td>\n",
              "    </tr>\n",
              "    <tr>\n",
              "      <th>1</th>\n",
              "      <td>139244</td>\n",
              "      <td>2010-05-25</td>\n",
              "      <td>139500</td>\n",
              "      <td>0.472647</td>\n",
              "      <td>128.030000000</td>\n",
              "      <td>2.060974</td>\n",
              "      <td>0.000000</td>\n",
              "      <td>15.52</td>\n",
              "      <td>0</td>\n",
              "      <td>0.240931</td>\n",
              "      <td>...</td>\n",
              "      <td>133.900000000</td>\n",
              "      <td>130.560000000</td>\n",
              "      <td>128.590000000</td>\n",
              "      <td>131.070000000</td>\n",
              "      <td>132.210000000</td>\n",
              "      <td>134.970000000</td>\n",
              "      <td>135.360000000</td>\n",
              "      <td>135.770000000</td>\n",
              "      <td>134.650000000</td>\n",
              "      <td>133.830000000</td>\n",
              "    </tr>\n",
              "    <tr>\n",
              "      <th>2</th>\n",
              "      <td>100929</td>\n",
              "      <td>1999-10-21</td>\n",
              "      <td>355000</td>\n",
              "      <td>0.366048</td>\n",
              "      <td>360.529800000</td>\n",
              "      <td>6.656143</td>\n",
              "      <td>0.681395</td>\n",
              "      <td>11.50</td>\n",
              "      <td>0</td>\n",
              "      <td>0.082136</td>\n",
              "      <td>...</td>\n",
              "      <td>392.589800000</td>\n",
              "      <td>384.629900000</td>\n",
              "      <td>381.689900000</td>\n",
              "      <td>368.599900000</td>\n",
              "      <td>373.869900000</td>\n",
              "      <td>374.819900000</td>\n",
              "      <td>366.599900000</td>\n",
              "      <td>361.559800000</td>\n",
              "      <td>364.259800000</td>\n",
              "      <td>360.730000000</td>\n",
              "    </tr>\n",
              "    <tr>\n",
              "      <th>3</th>\n",
              "      <td>100928</td>\n",
              "      <td>2006-08-25</td>\n",
              "      <td>505000</td>\n",
              "      <td>0.222312</td>\n",
              "      <td>438.780000000</td>\n",
              "      <td>5.301863</td>\n",
              "      <td>2.139069</td>\n",
              "      <td>67.20</td>\n",
              "      <td>0</td>\n",
              "      <td>0.654346</td>\n",
              "      <td>...</td>\n",
              "      <td>438.800000000</td>\n",
              "      <td>441.920000000</td>\n",
              "      <td>437.960000000</td>\n",
              "      <td>438.980000000</td>\n",
              "      <td>438.840000000</td>\n",
              "      <td>440.790000000</td>\n",
              "      <td>444.620000000</td>\n",
              "      <td>446.180000000</td>\n",
              "      <td>442.190000000</td>\n",
              "      <td>434.470000000</td>\n",
              "    </tr>\n",
              "    <tr>\n",
              "      <th>4</th>\n",
              "      <td>112878</td>\n",
              "      <td>2016-03-07</td>\n",
              "      <td>720000</td>\n",
              "      <td>0.719840</td>\n",
              "      <td>887.580000000</td>\n",
              "      <td>1.247673</td>\n",
              "      <td>2.406064</td>\n",
              "      <td>63.25</td>\n",
              "      <td>0</td>\n",
              "      <td>2.789870</td>\n",
              "      <td>...</td>\n",
              "      <td>857.250000000</td>\n",
              "      <td>857.160000000</td>\n",
              "      <td>861.750000000</td>\n",
              "      <td>848.390000000</td>\n",
              "      <td>835.890000000</td>\n",
              "      <td>820.610000000</td>\n",
              "      <td>829.610000000</td>\n",
              "      <td>830.970000000</td>\n",
              "      <td>832.170000000</td>\n",
              "      <td>839.770000000</td>\n",
              "    </tr>\n",
              "  </tbody>\n",
              "</table>\n",
              "<p>5 rows × 30 columns</p>\n",
              "</div>"
            ],
            "text/plain": [
              "    secid        date  strike_price  impl_volatility     under_price  \\\n",
              "0  108105  2019-02-26       2965000         0.270749  2793.900000000   \n",
              "1  139244  2010-05-25        139500         0.472647   128.030000000   \n",
              "2  100929  1999-10-21        355000         0.366048   360.529800000   \n",
              "3  100928  2006-08-25        505000         0.222312   438.780000000   \n",
              "4  112878  2016-03-07        720000         0.719840   887.580000000   \n",
              "\n",
              "   zero_coupon  div_yield  midpoint  opt_type      time  ...     under_lag11  \\\n",
              "0     2.572459   1.871969     16.70         1  0.334018  ...  2707.880000000   \n",
              "1     2.060974   0.000000     15.52         0  0.240931  ...   133.900000000   \n",
              "2     6.656143   0.681395     11.50         0  0.082136  ...   392.589800000   \n",
              "3     5.301863   2.139069     67.20         0  0.654346  ...   438.800000000   \n",
              "4     1.247673   2.406064     63.25         0  2.789870  ...   857.250000000   \n",
              "\n",
              "      under_lag12     under_lag13     under_lag14     under_lag15  \\\n",
              "0  2706.050000000  2731.610000000  2737.700000000  2724.870000000   \n",
              "1   130.560000000   128.590000000   131.070000000   132.210000000   \n",
              "2   384.629900000   381.689900000   368.599900000   373.869900000   \n",
              "3   441.920000000   437.960000000   438.980000000   438.840000000   \n",
              "4   857.160000000   861.750000000   848.390000000   835.890000000   \n",
              "\n",
              "      under_lag16     under_lag17     under_lag18     under_lag19  \\\n",
              "0  2706.530000000  2704.100000000  2681.050000000  2640.000000000   \n",
              "1   134.970000000   135.360000000   135.770000000   134.650000000   \n",
              "2   374.819900000   366.599900000   361.559800000   364.259800000   \n",
              "3   440.790000000   444.620000000   446.180000000   442.190000000   \n",
              "4   820.610000000   829.610000000   830.970000000   832.170000000   \n",
              "\n",
              "      under_lag20  \n",
              "0  2643.850000000  \n",
              "1   133.830000000  \n",
              "2   360.730000000  \n",
              "3   434.470000000  \n",
              "4   839.770000000  \n",
              "\n",
              "[5 rows x 30 columns]"
            ]
          },
          "execution_count": 72,
          "metadata": {},
          "output_type": "execute_result"
        }
      ],
      "source": [
        "%%bigquery\n",
        "# Preview Features_Prices\n",
        "SELECT * FROM `acms80695-384817.Options_Dataset.Features_Prices` LIMIT 5"
      ]
    },
    {
      "attachments": {},
      "cell_type": "markdown",
      "id": "45fbaed2-0104-46ad-89af-a52869b91eb5",
      "metadata": {
        "id": "45fbaed2-0104-46ad-89af-a52869b91eb5"
      },
      "source": [
        "## Drop Null Values"
      ]
    },
    {
      "cell_type": "code",
      "execution_count": null,
      "id": "259e769e-3774-4146-9330-83e1325de30c",
      "metadata": {
        "colab": {
          "referenced_widgets": [
            "0c406da43338408ba1e607d19c5d8bfb"
          ]
        },
        "id": "259e769e-3774-4146-9330-83e1325de30c",
        "outputId": "63aa9eea-2ad6-4a2c-9eac-bde87629c05d"
      },
      "outputs": [
        {
          "data": {
            "application/vnd.jupyter.widget-view+json": {
              "model_id": "0c406da43338408ba1e607d19c5d8bfb",
              "version_major": 2,
              "version_minor": 0
            },
            "text/plain": [
              "Query is running:   0%|          |"
            ]
          },
          "metadata": {},
          "output_type": "display_data"
        },
        {
          "data": {
            "text/html": [
              "<div>\n",
              "<style scoped>\n",
              "    .dataframe tbody tr th:only-of-type {\n",
              "        vertical-align: middle;\n",
              "    }\n",
              "\n",
              "    .dataframe tbody tr th {\n",
              "        vertical-align: top;\n",
              "    }\n",
              "\n",
              "    .dataframe thead th {\n",
              "        text-align: right;\n",
              "    }\n",
              "</style>\n",
              "<table border=\"1\" class=\"dataframe\">\n",
              "  <thead>\n",
              "    <tr style=\"text-align: right;\">\n",
              "      <th></th>\n",
              "    </tr>\n",
              "  </thead>\n",
              "  <tbody>\n",
              "  </tbody>\n",
              "</table>\n",
              "</div>"
            ],
            "text/plain": [
              "Empty DataFrame\n",
              "Columns: []\n",
              "Index: []"
            ]
          },
          "execution_count": 74,
          "metadata": {},
          "output_type": "execute_result"
        }
      ],
      "source": [
        "%%bigquery\n",
        "# Drop Null vALUES\n",
        "CREATE VIEW `acms80695-384817.Options_Dataset.No_Nulls` AS\n",
        "SELECT\n",
        "secid, `date`, strike_price/1000 AS strike_price,\n",
        "* EXCEPT(secid, `date`, strike_price)\n",
        "FROM `acms80695-384817.Options_Dataset.Features_Prices`\n",
        "WHERE\n",
        "  secid IS NOT NULL AND\n",
        "  `date` IS NOT NULL AND\n",
        "  strike_price IS NOT NULL AND\n",
        "  impl_volatility IS NOT NULL AND\n",
        "  under_price IS NOT NULL AND\n",
        "  zero_coupon IS NOT NULL AND\n",
        "  div_yield IS NOT NULL AND\n",
        "  midpoint IS NOT NULL AND\n",
        "  opt_type IS NOT NULL AND\n",
        "  `time` IS NOT NULL AND\n",
        "  under_lag1 IS NOT NULL AND\n",
        "  under_lag2 IS NOT NULL AND\n",
        "  under_lag3 IS NOT NULL AND\n",
        "  under_lag4 IS NOT NULL AND\n",
        "  under_lag5 IS NOT NULL AND\n",
        "  under_lag6 IS NOT NULL AND\n",
        "  under_lag7 IS NOT NULL AND\n",
        "  under_lag8 IS NOT NULL AND\n",
        "  under_lag9 IS NOT NULL AND\n",
        "  under_lag10 IS NOT NULL AND\n",
        "  under_lag11 IS NOT NULL AND\n",
        "  under_lag12 IS NOT NULL AND\n",
        "  under_lag13 IS NOT NULL AND\n",
        "  under_lag14 IS NOT NULL AND\n",
        "  under_lag15 IS NOT NULL AND\n",
        "  under_lag16 IS NOT NULL AND\n",
        "  under_lag17 IS NOT NULL AND\n",
        "  under_lag18 IS NOT NULL AND\n",
        "  under_lag19 IS NOT NULL AND\n",
        "  under_lag20 IS NOT NULL"
      ]
    },
    {
      "cell_type": "code",
      "execution_count": null,
      "id": "3c855bcf-96b6-4939-8d41-8e7cc9bbbc91",
      "metadata": {
        "colab": {
          "referenced_widgets": [
            "131f4db7f9a245699fc43f1045357268",
            "f3e47fc6f9e3465a80c1d58b0614d92e"
          ]
        },
        "id": "3c855bcf-96b6-4939-8d41-8e7cc9bbbc91",
        "outputId": "dd927257-023a-407d-d26a-44d4088cd446"
      },
      "outputs": [
        {
          "data": {
            "application/vnd.jupyter.widget-view+json": {
              "model_id": "131f4db7f9a245699fc43f1045357268",
              "version_major": 2,
              "version_minor": 0
            },
            "text/plain": [
              "Query is running:   0%|          |"
            ]
          },
          "metadata": {},
          "output_type": "display_data"
        },
        {
          "data": {
            "application/vnd.jupyter.widget-view+json": {
              "model_id": "f3e47fc6f9e3465a80c1d58b0614d92e",
              "version_major": 2,
              "version_minor": 0
            },
            "text/plain": [
              "Downloading:   0%|          |"
            ]
          },
          "metadata": {},
          "output_type": "display_data"
        },
        {
          "data": {
            "text/html": [
              "<div>\n",
              "<style scoped>\n",
              "    .dataframe tbody tr th:only-of-type {\n",
              "        vertical-align: middle;\n",
              "    }\n",
              "\n",
              "    .dataframe tbody tr th {\n",
              "        vertical-align: top;\n",
              "    }\n",
              "\n",
              "    .dataframe thead th {\n",
              "        text-align: right;\n",
              "    }\n",
              "</style>\n",
              "<table border=\"1\" class=\"dataframe\">\n",
              "  <thead>\n",
              "    <tr style=\"text-align: right;\">\n",
              "      <th></th>\n",
              "      <th>secid</th>\n",
              "      <th>date</th>\n",
              "      <th>strike_price</th>\n",
              "      <th>impl_volatility</th>\n",
              "      <th>under_price</th>\n",
              "      <th>zero_coupon</th>\n",
              "      <th>div_yield</th>\n",
              "      <th>midpoint</th>\n",
              "      <th>opt_type</th>\n",
              "      <th>time</th>\n",
              "      <th>...</th>\n",
              "      <th>under_lag11</th>\n",
              "      <th>under_lag12</th>\n",
              "      <th>under_lag13</th>\n",
              "      <th>under_lag14</th>\n",
              "      <th>under_lag15</th>\n",
              "      <th>under_lag16</th>\n",
              "      <th>under_lag17</th>\n",
              "      <th>under_lag18</th>\n",
              "      <th>under_lag19</th>\n",
              "      <th>under_lag20</th>\n",
              "    </tr>\n",
              "  </thead>\n",
              "  <tbody>\n",
              "    <tr>\n",
              "      <th>0</th>\n",
              "      <td>100929</td>\n",
              "      <td>2000-04-07</td>\n",
              "      <td>540.0</td>\n",
              "      <td>0.558302</td>\n",
              "      <td>497.869900000</td>\n",
              "      <td>6.967237</td>\n",
              "      <td>0.711037</td>\n",
              "      <td>76.000</td>\n",
              "      <td>0</td>\n",
              "      <td>0.539357</td>\n",
              "      <td>...</td>\n",
              "      <td>557.230000000</td>\n",
              "      <td>532.220000000</td>\n",
              "      <td>520.819800000</td>\n",
              "      <td>518.069800000</td>\n",
              "      <td>527.509800000</td>\n",
              "      <td>498.849900000</td>\n",
              "      <td>473.849900000</td>\n",
              "      <td>467.720000000</td>\n",
              "      <td>481.779800000</td>\n",
              "      <td>495.429900000</td>\n",
              "    </tr>\n",
              "    <tr>\n",
              "      <th>1</th>\n",
              "      <td>108944</td>\n",
              "      <td>2008-04-30</td>\n",
              "      <td>300.0</td>\n",
              "      <td>0.174855</td>\n",
              "      <td>300.050000000</td>\n",
              "      <td>3.628885</td>\n",
              "      <td>3.757649</td>\n",
              "      <td>18.300</td>\n",
              "      <td>0</td>\n",
              "      <td>0.717317</td>\n",
              "      <td>...</td>\n",
              "      <td>299.360000000</td>\n",
              "      <td>299.890000000</td>\n",
              "      <td>300.400000000</td>\n",
              "      <td>304.940000000</td>\n",
              "      <td>301.390000000</td>\n",
              "      <td>302.110000000</td>\n",
              "      <td>305.910000000</td>\n",
              "      <td>304.390000000</td>\n",
              "      <td>301.050000000</td>\n",
              "      <td>299.470000000</td>\n",
              "    </tr>\n",
              "    <tr>\n",
              "      <th>2</th>\n",
              "      <td>107880</td>\n",
              "      <td>2001-10-30</td>\n",
              "      <td>610.0</td>\n",
              "      <td>0.254934</td>\n",
              "      <td>546.740000000</td>\n",
              "      <td>3.893357</td>\n",
              "      <td>0.000000</td>\n",
              "      <td>64.050</td>\n",
              "      <td>0</td>\n",
              "      <td>0.145106</td>\n",
              "      <td>...</td>\n",
              "      <td>561.820000000</td>\n",
              "      <td>561.980000000</td>\n",
              "      <td>565.790000000</td>\n",
              "      <td>559.870000000</td>\n",
              "      <td>548.630000000</td>\n",
              "      <td>549.160000000</td>\n",
              "      <td>554.400000000</td>\n",
              "      <td>554.780000000</td>\n",
              "      <td>556.150000000</td>\n",
              "      <td>548.820000000</td>\n",
              "    </tr>\n",
              "    <tr>\n",
              "      <th>3</th>\n",
              "      <td>101494</td>\n",
              "      <td>2000-01-12</td>\n",
              "      <td>785.0</td>\n",
              "      <td>0.547028</td>\n",
              "      <td>845.299900000</td>\n",
              "      <td>7.044478</td>\n",
              "      <td>0.132368</td>\n",
              "      <td>94.625</td>\n",
              "      <td>1</td>\n",
              "      <td>0.104038</td>\n",
              "      <td>...</td>\n",
              "      <td>870.740000000</td>\n",
              "      <td>874.179900000</td>\n",
              "      <td>872.289700000</td>\n",
              "      <td>868.329800000</td>\n",
              "      <td>876.750000000</td>\n",
              "      <td>854.519800000</td>\n",
              "      <td>848.539700000</td>\n",
              "      <td>853.290100000</td>\n",
              "      <td>839.679900000</td>\n",
              "      <td>842.179900000</td>\n",
              "    </tr>\n",
              "    <tr>\n",
              "      <th>4</th>\n",
              "      <td>107695</td>\n",
              "      <td>2009-05-12</td>\n",
              "      <td>370.0</td>\n",
              "      <td>2.134992</td>\n",
              "      <td>536.090000000</td>\n",
              "      <td>2.153724</td>\n",
              "      <td>4.882952</td>\n",
              "      <td>174.700</td>\n",
              "      <td>1</td>\n",
              "      <td>0.605065</td>\n",
              "      <td>...</td>\n",
              "      <td>503.700000000</td>\n",
              "      <td>515.340000000</td>\n",
              "      <td>485.200000000</td>\n",
              "      <td>479.490000000</td>\n",
              "      <td>461.650000000</td>\n",
              "      <td>442.520000000</td>\n",
              "      <td>481.480000000</td>\n",
              "      <td>474.510000000</td>\n",
              "      <td>459.090000000</td>\n",
              "      <td>445.080000000</td>\n",
              "    </tr>\n",
              "  </tbody>\n",
              "</table>\n",
              "<p>5 rows × 30 columns</p>\n",
              "</div>"
            ],
            "text/plain": [
              "    secid        date  strike_price  impl_volatility    under_price  \\\n",
              "0  100929  2000-04-07         540.0         0.558302  497.869900000   \n",
              "1  108944  2008-04-30         300.0         0.174855  300.050000000   \n",
              "2  107880  2001-10-30         610.0         0.254934  546.740000000   \n",
              "3  101494  2000-01-12         785.0         0.547028  845.299900000   \n",
              "4  107695  2009-05-12         370.0         2.134992  536.090000000   \n",
              "\n",
              "   zero_coupon  div_yield  midpoint  opt_type      time  ...    under_lag11  \\\n",
              "0     6.967237   0.711037    76.000         0  0.539357  ...  557.230000000   \n",
              "1     3.628885   3.757649    18.300         0  0.717317  ...  299.360000000   \n",
              "2     3.893357   0.000000    64.050         0  0.145106  ...  561.820000000   \n",
              "3     7.044478   0.132368    94.625         1  0.104038  ...  870.740000000   \n",
              "4     2.153724   4.882952   174.700         1  0.605065  ...  503.700000000   \n",
              "\n",
              "     under_lag12    under_lag13    under_lag14    under_lag15    under_lag16  \\\n",
              "0  532.220000000  520.819800000  518.069800000  527.509800000  498.849900000   \n",
              "1  299.890000000  300.400000000  304.940000000  301.390000000  302.110000000   \n",
              "2  561.980000000  565.790000000  559.870000000  548.630000000  549.160000000   \n",
              "3  874.179900000  872.289700000  868.329800000  876.750000000  854.519800000   \n",
              "4  515.340000000  485.200000000  479.490000000  461.650000000  442.520000000   \n",
              "\n",
              "     under_lag17    under_lag18    under_lag19    under_lag20  \n",
              "0  473.849900000  467.720000000  481.779800000  495.429900000  \n",
              "1  305.910000000  304.390000000  301.050000000  299.470000000  \n",
              "2  554.400000000  554.780000000  556.150000000  548.820000000  \n",
              "3  848.539700000  853.290100000  839.679900000  842.179900000  \n",
              "4  481.480000000  474.510000000  459.090000000  445.080000000  \n",
              "\n",
              "[5 rows x 30 columns]"
            ]
          },
          "execution_count": 75,
          "metadata": {},
          "output_type": "execute_result"
        }
      ],
      "source": [
        "%%bigquery\n",
        "# Preview No_Nulls\n",
        "SELECT * FROM `acms80695-384817.Options_Dataset.No_Nulls` LIMIT 5"
      ]
    },
    {
      "attachments": {},
      "cell_type": "markdown",
      "id": "1166ca6c-5405-4eb0-8fd5-467b33797d9d",
      "metadata": {
        "id": "1166ca6c-5405-4eb0-8fd5-467b33797d9d"
      },
      "source": [
        "## Apply Final Filters"
      ]
    },
    {
      "cell_type": "code",
      "execution_count": null,
      "id": "1df9321f-8495-4514-8d57-b6e6236db864",
      "metadata": {
        "colab": {
          "referenced_widgets": [
            "4325015816744c78b5517e1d834df1bf"
          ]
        },
        "id": "1df9321f-8495-4514-8d57-b6e6236db864",
        "outputId": "88577e79-9e27-4c2e-d45f-fcbadcef4ea8"
      },
      "outputs": [
        {
          "data": {
            "application/vnd.jupyter.widget-view+json": {
              "model_id": "4325015816744c78b5517e1d834df1bf",
              "version_major": 2,
              "version_minor": 0
            },
            "text/plain": [
              "Query is running:   0%|          |"
            ]
          },
          "metadata": {},
          "output_type": "display_data"
        },
        {
          "data": {
            "text/html": [
              "<div>\n",
              "<style scoped>\n",
              "    .dataframe tbody tr th:only-of-type {\n",
              "        vertical-align: middle;\n",
              "    }\n",
              "\n",
              "    .dataframe tbody tr th {\n",
              "        vertical-align: top;\n",
              "    }\n",
              "\n",
              "    .dataframe thead th {\n",
              "        text-align: right;\n",
              "    }\n",
              "</style>\n",
              "<table border=\"1\" class=\"dataframe\">\n",
              "  <thead>\n",
              "    <tr style=\"text-align: right;\">\n",
              "      <th></th>\n",
              "    </tr>\n",
              "  </thead>\n",
              "  <tbody>\n",
              "  </tbody>\n",
              "</table>\n",
              "</div>"
            ],
            "text/plain": [
              "Empty DataFrame\n",
              "Columns: []\n",
              "Index: []"
            ]
          },
          "execution_count": 81,
          "metadata": {},
          "output_type": "execute_result"
        }
      ],
      "source": [
        "%%bigquery\n",
        "# Apply Final Filters\n",
        "# - Underlying price is between 0.01 and 1000000\n",
        "# - Midpoint is between 0.01 and 100000\n",
        "# - Risk Free Rate is greater than 0\n",
        "# - Dividend Yield is greater than 0\n",
        "CREATE VIEW `acms80695-384817.Options_Dataset.Clean_Dataset` AS\n",
        "SELECT * FROM `acms80695-384817.Options_Dataset.No_Nulls`\n",
        "WHERE under_price > 0 AND under_price < 1000000 AND\n",
        "      midpoint > 0.01 AND midpoint < 100000 AND\n",
        "      zero_coupon > 0 AND\n",
        "      div_yield > 0"
      ]
    },
    {
      "cell_type": "code",
      "execution_count": null,
      "id": "3d5d29d6-4094-4dec-ad30-d27f234700c5",
      "metadata": {
        "colab": {
          "referenced_widgets": [
            "5b65df0041294a5ca24957eff1a4da3d",
            "d05bc33adf2c4ab5a8853a0286e019c2"
          ]
        },
        "id": "3d5d29d6-4094-4dec-ad30-d27f234700c5",
        "outputId": "2b231e85-3459-4338-98a8-d8250ee3679d"
      },
      "outputs": [
        {
          "data": {
            "application/vnd.jupyter.widget-view+json": {
              "model_id": "5b65df0041294a5ca24957eff1a4da3d",
              "version_major": 2,
              "version_minor": 0
            },
            "text/plain": [
              "Query is running:   0%|          |"
            ]
          },
          "metadata": {},
          "output_type": "display_data"
        },
        {
          "data": {
            "application/vnd.jupyter.widget-view+json": {
              "model_id": "d05bc33adf2c4ab5a8853a0286e019c2",
              "version_major": 2,
              "version_minor": 0
            },
            "text/plain": [
              "Downloading:   0%|          |"
            ]
          },
          "metadata": {},
          "output_type": "display_data"
        },
        {
          "data": {
            "text/html": [
              "<div>\n",
              "<style scoped>\n",
              "    .dataframe tbody tr th:only-of-type {\n",
              "        vertical-align: middle;\n",
              "    }\n",
              "\n",
              "    .dataframe tbody tr th {\n",
              "        vertical-align: top;\n",
              "    }\n",
              "\n",
              "    .dataframe thead th {\n",
              "        text-align: right;\n",
              "    }\n",
              "</style>\n",
              "<table border=\"1\" class=\"dataframe\">\n",
              "  <thead>\n",
              "    <tr style=\"text-align: right;\">\n",
              "      <th></th>\n",
              "      <th>secid</th>\n",
              "      <th>date</th>\n",
              "      <th>strike_price</th>\n",
              "      <th>impl_volatility</th>\n",
              "      <th>under_price</th>\n",
              "      <th>zero_coupon</th>\n",
              "      <th>div_yield</th>\n",
              "      <th>midpoint</th>\n",
              "      <th>opt_type</th>\n",
              "      <th>time</th>\n",
              "      <th>...</th>\n",
              "      <th>under_lag11</th>\n",
              "      <th>under_lag12</th>\n",
              "      <th>under_lag13</th>\n",
              "      <th>under_lag14</th>\n",
              "      <th>under_lag15</th>\n",
              "      <th>under_lag16</th>\n",
              "      <th>under_lag17</th>\n",
              "      <th>under_lag18</th>\n",
              "      <th>under_lag19</th>\n",
              "      <th>under_lag20</th>\n",
              "    </tr>\n",
              "  </thead>\n",
              "  <tbody>\n",
              "    <tr>\n",
              "      <th>0</th>\n",
              "      <td>108587</td>\n",
              "      <td>2020-10-29</td>\n",
              "      <td>695.0</td>\n",
              "      <td>0.422390</td>\n",
              "      <td>824.055400000</td>\n",
              "      <td>0.454459</td>\n",
              "      <td>8.156757</td>\n",
              "      <td>129.500</td>\n",
              "      <td>1</td>\n",
              "      <td>0.136893</td>\n",
              "      <td>...</td>\n",
              "      <td>828.831200000</td>\n",
              "      <td>830.802000000</td>\n",
              "      <td>836.765800000</td>\n",
              "      <td>831.170300000</td>\n",
              "      <td>831.137400000</td>\n",
              "      <td>816.650500000</td>\n",
              "      <td>810.658100000</td>\n",
              "      <td>803.995100000</td>\n",
              "      <td>792.840500000</td>\n",
              "      <td>784.116000000</td>\n",
              "    </tr>\n",
              "    <tr>\n",
              "      <th>1</th>\n",
              "      <td>108105</td>\n",
              "      <td>2010-05-28</td>\n",
              "      <td>925.0</td>\n",
              "      <td>0.527690</td>\n",
              "      <td>1089.410000000</td>\n",
              "      <td>2.088243</td>\n",
              "      <td>2.111063</td>\n",
              "      <td>26.250</td>\n",
              "      <td>0</td>\n",
              "      <td>0.342231</td>\n",
              "      <td>...</td>\n",
              "      <td>1157.440000000</td>\n",
              "      <td>1171.670000000</td>\n",
              "      <td>1155.790000000</td>\n",
              "      <td>1159.730000000</td>\n",
              "      <td>1110.880000000</td>\n",
              "      <td>1128.150000000</td>\n",
              "      <td>1165.870000000</td>\n",
              "      <td>1173.600000000</td>\n",
              "      <td>1202.260000000</td>\n",
              "      <td>1186.690000000</td>\n",
              "    </tr>\n",
              "    <tr>\n",
              "      <th>2</th>\n",
              "      <td>108105</td>\n",
              "      <td>2013-07-19</td>\n",
              "      <td>1150.0</td>\n",
              "      <td>0.315081</td>\n",
              "      <td>1692.090000000</td>\n",
              "      <td>1.348511</td>\n",
              "      <td>2.040696</td>\n",
              "      <td>535.950</td>\n",
              "      <td>1</td>\n",
              "      <td>0.947296</td>\n",
              "      <td>...</td>\n",
              "      <td>1615.410000000</td>\n",
              "      <td>1614.080000000</td>\n",
              "      <td>1614.960000000</td>\n",
              "      <td>1606.280000000</td>\n",
              "      <td>1613.200000000</td>\n",
              "      <td>1603.260000000</td>\n",
              "      <td>1588.030000000</td>\n",
              "      <td>1573.090000000</td>\n",
              "      <td>1592.430000000</td>\n",
              "      <td>1588.190000000</td>\n",
              "    </tr>\n",
              "    <tr>\n",
              "      <th>3</th>\n",
              "      <td>102181</td>\n",
              "      <td>2000-10-12</td>\n",
              "      <td>590.0</td>\n",
              "      <td>0.685877</td>\n",
              "      <td>642.579800000</td>\n",
              "      <td>6.726452</td>\n",
              "      <td>0.377709</td>\n",
              "      <td>103.375</td>\n",
              "      <td>1</td>\n",
              "      <td>0.177960</td>\n",
              "      <td>...</td>\n",
              "      <td>765.609900000</td>\n",
              "      <td>762.319800000</td>\n",
              "      <td>785.759800000</td>\n",
              "      <td>772.909900000</td>\n",
              "      <td>732.109900000</td>\n",
              "      <td>740.329800000</td>\n",
              "      <td>720.109900000</td>\n",
              "      <td>694.720000000</td>\n",
              "      <td>743.069800000</td>\n",
              "      <td>739.549700000</td>\n",
              "    </tr>\n",
              "    <tr>\n",
              "      <th>4</th>\n",
              "      <td>101507</td>\n",
              "      <td>2010-04-21</td>\n",
              "      <td>650.0</td>\n",
              "      <td>0.370632</td>\n",
              "      <td>831.780000000</td>\n",
              "      <td>2.209413</td>\n",
              "      <td>1.287919</td>\n",
              "      <td>21.250</td>\n",
              "      <td>0</td>\n",
              "      <td>0.908966</td>\n",
              "      <td>...</td>\n",
              "      <td>814.170000000</td>\n",
              "      <td>810.130000000</td>\n",
              "      <td>797.290000000</td>\n",
              "      <td>789.900000000</td>\n",
              "      <td>794.130000000</td>\n",
              "      <td>793.170000000</td>\n",
              "      <td>787.020000000</td>\n",
              "      <td>787.740000000</td>\n",
              "      <td>793.310000000</td>\n",
              "      <td>799.950000000</td>\n",
              "    </tr>\n",
              "  </tbody>\n",
              "</table>\n",
              "<p>5 rows × 30 columns</p>\n",
              "</div>"
            ],
            "text/plain": [
              "    secid        date  strike_price  impl_volatility     under_price  \\\n",
              "0  108587  2020-10-29         695.0         0.422390   824.055400000   \n",
              "1  108105  2010-05-28         925.0         0.527690  1089.410000000   \n",
              "2  108105  2013-07-19        1150.0         0.315081  1692.090000000   \n",
              "3  102181  2000-10-12         590.0         0.685877   642.579800000   \n",
              "4  101507  2010-04-21         650.0         0.370632   831.780000000   \n",
              "\n",
              "   zero_coupon  div_yield  midpoint  opt_type      time  ...     under_lag11  \\\n",
              "0     0.454459   8.156757   129.500         1  0.136893  ...   828.831200000   \n",
              "1     2.088243   2.111063    26.250         0  0.342231  ...  1157.440000000   \n",
              "2     1.348511   2.040696   535.950         1  0.947296  ...  1615.410000000   \n",
              "3     6.726452   0.377709   103.375         1  0.177960  ...   765.609900000   \n",
              "4     2.209413   1.287919    21.250         0  0.908966  ...   814.170000000   \n",
              "\n",
              "      under_lag12     under_lag13     under_lag14     under_lag15  \\\n",
              "0   830.802000000   836.765800000   831.170300000   831.137400000   \n",
              "1  1171.670000000  1155.790000000  1159.730000000  1110.880000000   \n",
              "2  1614.080000000  1614.960000000  1606.280000000  1613.200000000   \n",
              "3   762.319800000   785.759800000   772.909900000   732.109900000   \n",
              "4   810.130000000   797.290000000   789.900000000   794.130000000   \n",
              "\n",
              "      under_lag16     under_lag17     under_lag18     under_lag19  \\\n",
              "0   816.650500000   810.658100000   803.995100000   792.840500000   \n",
              "1  1128.150000000  1165.870000000  1173.600000000  1202.260000000   \n",
              "2  1603.260000000  1588.030000000  1573.090000000  1592.430000000   \n",
              "3   740.329800000   720.109900000   694.720000000   743.069800000   \n",
              "4   793.170000000   787.020000000   787.740000000   793.310000000   \n",
              "\n",
              "      under_lag20  \n",
              "0   784.116000000  \n",
              "1  1186.690000000  \n",
              "2  1588.190000000  \n",
              "3   739.549700000  \n",
              "4   799.950000000  \n",
              "\n",
              "[5 rows x 30 columns]"
            ]
          },
          "execution_count": 82,
          "metadata": {},
          "output_type": "execute_result"
        }
      ],
      "source": [
        "%%bigquery\n",
        "# Preview Clean_Dataset\n",
        "SELECT * FROM `acms80695-384817.Options_Dataset.Clean_Dataset` Limit 5"
      ]
    },
    {
      "attachments": {},
      "cell_type": "markdown",
      "id": "Lm2W_r8h8CwB",
      "metadata": {
        "id": "Lm2W_r8h8CwB"
      },
      "source": [
        "## Exploratory Data Analysis"
      ]
    },
    {
      "cell_type": "code",
      "execution_count": 22,
      "id": "8BKkDIRj9JU_",
      "metadata": {
        "id": "8BKkDIRj9JU_"
      },
      "outputs": [],
      "source": [
        "# @title Setup\n",
        "from google.colab import auth\n",
        "from google.cloud import bigquery\n",
        "from google.colab import data_table\n",
        "\n",
        "import seaborn as sns\n",
        "import matplotlib.pyplot as plt\n",
        "\n",
        "# Define a custom color palette with a single black color\n",
        "black_palette = sns.color_palette(['black'])\n",
        "\n",
        "# Set the color palette to the custom palette\n",
        "sns.set_palette(black_palette)\n",
        "\n",
        "# Set the Style to Darkgrid\n",
        "sns.set_style(\"darkgrid\")\n",
        "\n",
        "project = 'acms80695-384817' # Project ID inserted based on the query results selected to explore\n",
        "location = 'US' # Location inserted based on the query results selected to explore\n",
        "client = bigquery.Client(project=project, location=location)\n",
        "data_table.enable_dataframe_formatter()\n",
        "auth.authenticate_user()"
      ]
    },
    {
      "cell_type": "code",
      "execution_count": 31,
      "id": "6kk3TK_5--M8",
      "metadata": {
        "colab": {
          "base_uri": "https://localhost:8080/"
        },
        "id": "6kk3TK_5--M8",
        "outputId": "d0dbdd87-fd83-4c72-89a4-3030157c4615"
      },
      "outputs": [
        {
          "name": "stdout",
          "output_type": "stream",
          "text": [
            "SELECT secid, strike_price, impl_volatility, zero_coupon,\r\n",
            "       div_yield, midpoint, opt_type, `time`\r\n",
            "FROM `acms80695-384817.Options_Dataset.Clean_Dataset`\n"
          ]
        }
      ],
      "source": [
        "# Display the query used to generate the job\n",
        "job = client.get_job('bquxjob_1408e082_188d2055a6d') # Job ID inserted based on the query results selected to explore\n",
        "print(job.query)"
      ]
    },
    {
      "cell_type": "code",
      "execution_count": 32,
      "id": "gOjL9soS_CWA",
      "metadata": {
        "colab": {
          "base_uri": "https://localhost:8080/",
          "height": 194
        },
        "id": "gOjL9soS_CWA",
        "outputId": "aea59ea3-bc4b-4d24-f94b-d4b47907df41"
      },
      "outputs": [
        {
          "data": {
            "application/vnd.google.colaboratory.module+javascript": "\n      import \"https://ssl.gstatic.com/colaboratory/data_table/881c4a0d49046431/data_table.js\";\n\n      const table = window.createDataTable({\n        data: [[{\n            'v': 0,\n            'f': \"0\",\n        },\n{\n            'v': 102471,\n            'f': \"102471\",\n        },\n{\n            'v': 62.5,\n            'f': \"62.5\",\n        },\n{\n            'v': 0.392516,\n            'f': \"0.392516\",\n        },\n{\n            'v': 6.81074291111111,\n            'f': \"6.81074291111111\",\n        },\n{\n            'v': 0.22137,\n            'f': \"0.22137\",\n        },\n{\n            'v': 0.125,\n            'f': \"0.125\",\n        },\n{\n            'v': 0,\n            'f': \"0\",\n        },\n{\n            'v': 0.1834360027378508,\n            'f': \"0.1834360027378508\",\n        }],\n [{\n            'v': 1,\n            'f': \"1\",\n        },\n{\n            'v': 109771,\n            'f': \"109771\",\n        },\n{\n            'v': 460.0,\n            'f': \"460.0\",\n        },\n{\n            'v': 0.248844,\n            'f': \"0.248844\",\n        },\n{\n            'v': 6.348137047619047,\n            'f': \"6.348137047619047\",\n        },\n{\n            'v': 2.002451,\n            'f': \"2.002451\",\n        },\n{\n            'v': 67.375,\n            'f': \"67.375\",\n        },\n{\n            'v': 1,\n            'f': \"1\",\n        },\n{\n            'v': 0.5201916495550992,\n            'f': \"0.5201916495550992\",\n        }],\n [{\n            'v': 2,\n            'f': \"2\",\n        },\n{\n            'v': 108619,\n            'f': \"108619\",\n        },\n{\n            'v': 540.0,\n            'f': \"540.0\",\n        },\n{\n            'v': 0.323116,\n            'f': \"0.323116\",\n        },\n{\n            'v': 6.318921744186046,\n            'f': \"6.318921744186046\",\n        },\n{\n            'v': 0.496034,\n            'f': \"0.496034\",\n        },\n{\n            'v': 93.125,\n            'f': \"93.125\",\n        },\n{\n            'v': 1,\n            'f': \"1\",\n        },\n{\n            'v': 0.7392197125256673,\n            'f': \"0.7392197125256673\",\n        }],\n [{\n            'v': 3,\n            'f': \"3\",\n        },\n{\n            'v': 108680,\n            'f': \"108680\",\n        },\n{\n            'v': 180.0,\n            'f': \"180.0\",\n        },\n{\n            'v': 0.455967,\n            'f': \"0.455967\",\n        },\n{\n            'v': 5.77702440909091,\n            'f': \"5.77702440909091\",\n        },\n{\n            'v': 1.968623,\n            'f': \"1.968623\",\n        },\n{\n            'v': 13.625,\n            'f': \"13.625\",\n        },\n{\n            'v': 1,\n            'f': \"1\",\n        },\n{\n            'v': 0.3860369609856263,\n            'f': \"0.3860369609856263\",\n        }],\n [{\n            'v': 4,\n            'f': \"4\",\n        },\n{\n            'v': 108591,\n            'f': \"108591\",\n        },\n{\n            'v': 47.5,\n            'f': \"47.5\",\n        },\n{\n            'v': 0.358142,\n            'f': \"0.358142\",\n        },\n{\n            'v': 2.3120233333333338,\n            'f': \"2.3120233333333338\",\n        },\n{\n            'v': 3.244135,\n            'f': \"3.244135\",\n        },\n{\n            'v': 10.5,\n            'f': \"10.5\",\n        },\n{\n            'v': 1,\n            'f': \"1\",\n        },\n{\n            'v': 0.7200547570157426,\n            'f': \"0.7200547570157426\",\n        }]],\n        columns: [[\"number\", \"index\"], [\"number\", \"secid\"], [\"number\", \"strike_price\"], [\"number\", \"impl_volatility\"], [\"number\", \"zero_coupon\"], [\"number\", \"div_yield\"], [\"number\", \"midpoint\"], [\"number\", \"opt_type\"], [\"number\", \"time\"]],\n        columnOptions: [{\"width\": \"1px\", \"className\": \"index_column\"}],\n        rowsPerPage: 25,\n        helpUrl: \"https://colab.research.google.com/notebooks/data_table.ipynb\",\n        suppressOutputScrolling: true,\n        minimumWidth: undefined,\n      });\n      \n      function appendQuickchartButton(parentElement) {\n        let quickchartButtonContainerElement = document.createElement('div');\n        quickchartButtonContainerElement.innerHTML = `\n    <div id=\"df-f74f6478-3e16-4647-94ca-60691c726246\">\n      <button class=\"colab-df-quickchart\" onclick=\"quickchart('df-f74f6478-3e16-4647-94ca-60691c726246')\"\n              title=\"Generate charts.\"\n              style=\"display:none;\">\n\n<svg xmlns=\"http://www.w3.org/2000/svg\" height=\"24px\"viewBox=\"0 0 24 24\"\n     width=\"24px\">\n    <g>\n        <path d=\"M19 3H5c-1.1 0-2 .9-2 2v14c0 1.1.9 2 2 2h14c1.1 0 2-.9 2-2V5c0-1.1-.9-2-2-2zM9 17H7v-7h2v7zm4 0h-2V7h2v10zm4 0h-2v-4h2v4z\"/>\n    </g>\n</svg>\n      </button>\n    </div>\n\n<style>\n  .colab-df-quickchart {\n    background-color: #E8F0FE;\n    border: none;\n    border-radius: 50%;\n    cursor: pointer;\n    display: none;\n    fill: #1967D2;\n    height: 32px;\n    padding: 0 0 0 0;\n    width: 32px;\n  }\n\n  .colab-df-quickchart:hover {\n    background-color: #E2EBFA;\n    box-shadow: 0px 1px 2px rgba(60, 64, 67, 0.3), 0px 1px 3px 1px rgba(60, 64, 67, 0.15);\n    fill: #174EA6;\n  }\n\n  [theme=dark] .colab-df-quickchart {\n    background-color: #3B4455;\n    fill: #D2E3FC;\n  }\n\n  [theme=dark] .colab-df-quickchart:hover {\n    background-color: #434B5C;\n    box-shadow: 0px 1px 3px 1px rgba(0, 0, 0, 0.15);\n    filter: drop-shadow(0px 1px 2px rgba(0, 0, 0, 0.3));\n    fill: #FFFFFF;\n  }\n</style>\n\n    <script>\n      async function quickchart(key) {\n        const containerElement = document.querySelector('#' + key);\n        const charts = await google.colab.kernel.invokeFunction(\n            'generateCharts', [key], {});\n      }\n    </script>\n`;\n        parentElement.appendChild(quickchartButtonContainerElement);\n        \nfunction displayQuickchartButton(domScope) {\n  let quickchartButtonEl =\n    domScope.querySelector('#df-f74f6478-3e16-4647-94ca-60691c726246 button.colab-df-quickchart');\n  quickchartButtonEl.style.display =\n    google.colab.kernel.accessAllowed ? 'block' : 'none';\n}\n\n        displayQuickchartButton(parentElement);\n      }\n    ",
            "text/html": [
              "\n",
              "  <div id=\"df-524a41ac-1195-406b-a71a-c7dea367da07\">\n",
              "    <div class=\"colab-df-container\">\n",
              "      <div>\n",
              "<style scoped>\n",
              "    .dataframe tbody tr th:only-of-type {\n",
              "        vertical-align: middle;\n",
              "    }\n",
              "\n",
              "    .dataframe tbody tr th {\n",
              "        vertical-align: top;\n",
              "    }\n",
              "\n",
              "    .dataframe thead th {\n",
              "        text-align: right;\n",
              "    }\n",
              "</style>\n",
              "<table border=\"1\" class=\"dataframe\">\n",
              "  <thead>\n",
              "    <tr style=\"text-align: right;\">\n",
              "      <th></th>\n",
              "      <th>secid</th>\n",
              "      <th>strike_price</th>\n",
              "      <th>impl_volatility</th>\n",
              "      <th>zero_coupon</th>\n",
              "      <th>div_yield</th>\n",
              "      <th>midpoint</th>\n",
              "      <th>opt_type</th>\n",
              "      <th>time</th>\n",
              "    </tr>\n",
              "  </thead>\n",
              "  <tbody>\n",
              "    <tr>\n",
              "      <th>0</th>\n",
              "      <td>102471</td>\n",
              "      <td>62.5</td>\n",
              "      <td>0.392516</td>\n",
              "      <td>6.810743</td>\n",
              "      <td>0.221370</td>\n",
              "      <td>0.125</td>\n",
              "      <td>0</td>\n",
              "      <td>0.183436</td>\n",
              "    </tr>\n",
              "    <tr>\n",
              "      <th>1</th>\n",
              "      <td>109771</td>\n",
              "      <td>460.0</td>\n",
              "      <td>0.248844</td>\n",
              "      <td>6.348137</td>\n",
              "      <td>2.002451</td>\n",
              "      <td>67.375</td>\n",
              "      <td>1</td>\n",
              "      <td>0.520192</td>\n",
              "    </tr>\n",
              "    <tr>\n",
              "      <th>2</th>\n",
              "      <td>108619</td>\n",
              "      <td>540.0</td>\n",
              "      <td>0.323116</td>\n",
              "      <td>6.318922</td>\n",
              "      <td>0.496034</td>\n",
              "      <td>93.125</td>\n",
              "      <td>1</td>\n",
              "      <td>0.739220</td>\n",
              "    </tr>\n",
              "    <tr>\n",
              "      <th>3</th>\n",
              "      <td>108680</td>\n",
              "      <td>180.0</td>\n",
              "      <td>0.455967</td>\n",
              "      <td>5.777024</td>\n",
              "      <td>1.968623</td>\n",
              "      <td>13.625</td>\n",
              "      <td>1</td>\n",
              "      <td>0.386037</td>\n",
              "    </tr>\n",
              "    <tr>\n",
              "      <th>4</th>\n",
              "      <td>108591</td>\n",
              "      <td>47.5</td>\n",
              "      <td>0.358142</td>\n",
              "      <td>2.312023</td>\n",
              "      <td>3.244135</td>\n",
              "      <td>10.500</td>\n",
              "      <td>1</td>\n",
              "      <td>0.720055</td>\n",
              "    </tr>\n",
              "  </tbody>\n",
              "</table>\n",
              "</div>\n",
              "      <button class=\"colab-df-convert\" onclick=\"convertToInteractive('df-524a41ac-1195-406b-a71a-c7dea367da07')\"\n",
              "              title=\"Convert this dataframe to an interactive table.\"\n",
              "              style=\"display:none;\">\n",
              "        \n",
              "  <svg xmlns=\"http://www.w3.org/2000/svg\" height=\"24px\"viewBox=\"0 0 24 24\"\n",
              "       width=\"24px\">\n",
              "    <path d=\"M0 0h24v24H0V0z\" fill=\"none\"/>\n",
              "    <path d=\"M18.56 5.44l.94 2.06.94-2.06 2.06-.94-2.06-.94-.94-2.06-.94 2.06-2.06.94zm-11 1L8.5 8.5l.94-2.06 2.06-.94-2.06-.94L8.5 2.5l-.94 2.06-2.06.94zm10 10l.94 2.06.94-2.06 2.06-.94-2.06-.94-.94-2.06-.94 2.06-2.06.94z\"/><path d=\"M17.41 7.96l-1.37-1.37c-.4-.4-.92-.59-1.43-.59-.52 0-1.04.2-1.43.59L10.3 9.45l-7.72 7.72c-.78.78-.78 2.05 0 2.83L4 21.41c.39.39.9.59 1.41.59.51 0 1.02-.2 1.41-.59l7.78-7.78 2.81-2.81c.8-.78.8-2.07 0-2.86zM5.41 20L4 18.59l7.72-7.72 1.47 1.35L5.41 20z\"/>\n",
              "  </svg>\n",
              "      </button>\n",
              "      \n",
              "  <style>\n",
              "    .colab-df-container {\n",
              "      display:flex;\n",
              "      flex-wrap:wrap;\n",
              "      gap: 12px;\n",
              "    }\n",
              "\n",
              "    .colab-df-convert {\n",
              "      background-color: #E8F0FE;\n",
              "      border: none;\n",
              "      border-radius: 50%;\n",
              "      cursor: pointer;\n",
              "      display: none;\n",
              "      fill: #1967D2;\n",
              "      height: 32px;\n",
              "      padding: 0 0 0 0;\n",
              "      width: 32px;\n",
              "    }\n",
              "\n",
              "    .colab-df-convert:hover {\n",
              "      background-color: #E2EBFA;\n",
              "      box-shadow: 0px 1px 2px rgba(60, 64, 67, 0.3), 0px 1px 3px 1px rgba(60, 64, 67, 0.15);\n",
              "      fill: #174EA6;\n",
              "    }\n",
              "\n",
              "    [theme=dark] .colab-df-convert {\n",
              "      background-color: #3B4455;\n",
              "      fill: #D2E3FC;\n",
              "    }\n",
              "\n",
              "    [theme=dark] .colab-df-convert:hover {\n",
              "      background-color: #434B5C;\n",
              "      box-shadow: 0px 1px 3px 1px rgba(0, 0, 0, 0.15);\n",
              "      filter: drop-shadow(0px 1px 2px rgba(0, 0, 0, 0.3));\n",
              "      fill: #FFFFFF;\n",
              "    }\n",
              "  </style>\n",
              "\n",
              "      <script>\n",
              "        const buttonEl =\n",
              "          document.querySelector('#df-524a41ac-1195-406b-a71a-c7dea367da07 button.colab-df-convert');\n",
              "        buttonEl.style.display =\n",
              "          google.colab.kernel.accessAllowed ? 'block' : 'none';\n",
              "\n",
              "        async function convertToInteractive(key) {\n",
              "          const element = document.querySelector('#df-524a41ac-1195-406b-a71a-c7dea367da07');\n",
              "          const dataTable =\n",
              "            await google.colab.kernel.invokeFunction('convertToInteractive',\n",
              "                                                     [key], {});\n",
              "          if (!dataTable) return;\n",
              "\n",
              "          const docLinkHtml = 'Like what you see? Visit the ' +\n",
              "            '<a target=\"_blank\" href=https://colab.research.google.com/notebooks/data_table.ipynb>data table notebook</a>'\n",
              "            + ' to learn more about interactive tables.';\n",
              "          element.innerHTML = '';\n",
              "          dataTable['output_type'] = 'display_data';\n",
              "          await google.colab.output.renderOutput(dataTable, element);\n",
              "          const docLink = document.createElement('div');\n",
              "          docLink.innerHTML = docLinkHtml;\n",
              "          element.appendChild(docLink);\n",
              "        }\n",
              "      </script>\n",
              "    </div>\n",
              "  </div>\n",
              "  "
            ],
            "text/plain": [
              "    secid  strike_price  impl_volatility  zero_coupon  div_yield  midpoint  \\\n",
              "0  102471          62.5         0.392516     6.810743   0.221370     0.125   \n",
              "1  109771         460.0         0.248844     6.348137   2.002451    67.375   \n",
              "2  108619         540.0         0.323116     6.318922   0.496034    93.125   \n",
              "3  108680         180.0         0.455967     5.777024   1.968623    13.625   \n",
              "4  108591          47.5         0.358142     2.312023   3.244135    10.500   \n",
              "\n",
              "   opt_type      time  \n",
              "0         0  0.183436  \n",
              "1         1  0.520192  \n",
              "2         1  0.739220  \n",
              "3         1  0.386037  \n",
              "4         1  0.720055  "
            ]
          },
          "execution_count": 32,
          "metadata": {},
          "output_type": "execute_result"
        }
      ],
      "source": [
        "# Read results from the job\n",
        "job = client.get_job('bquxjob_1408e082_188d2055a6d') # Job ID inserted based on the query results selected to explore\n",
        "results = job.to_dataframe()\n",
        "results.head()"
      ]
    },
    {
      "cell_type": "code",
      "execution_count": 33,
      "id": "w1pIiy79-QUa",
      "metadata": {
        "id": "w1pIiy79-QUa"
      },
      "outputs": [],
      "source": [
        "# Rename Columns to More Readable Names\n",
        "results = results.rename(columns={'midpoint': 'Bid-Ask Midpoint Price', 'zero_coupon': 'Zero Coupon Rate',\n",
        "                                  'div_yield': 'Dividend Yield', 'impl_volatility': 'Implied Volatility',\n",
        "                                  'time': 'Time to Maturity (years)', 'strike_price': 'Strike Price',\n",
        "                                  'under_price': 'Underlying Price', 'opt_type': 'Option Type'})"
      ]
    },
    {
      "cell_type": "code",
      "execution_count": 34,
      "id": "EM6PbORv8urv",
      "metadata": {
        "colab": {
          "base_uri": "https://localhost:8080/",
          "height": 472
        },
        "id": "EM6PbORv8urv",
        "outputId": "0b8ff1fd-3370-4e0b-e08e-953590a2b402"
      },
      "outputs": [
        {
          "data": {
            "text/plain": [
              "<Axes: xlabel='Bid-Ask Midpoint Price', ylabel='Count'>"
            ]
          },
          "execution_count": 34,
          "metadata": {},
          "output_type": "execute_result"
        },
        {
          "data": {
            "image/png": "[encoded data removed]",
            "text/plain": [
              "<Figure size 640x480 with 1 Axes>"
            ]
          },
          "metadata": {},
          "output_type": "display_data"
        }
      ],
      "source": [
        "sns.histplot(results['Bid-Ask Midpoint Price'], log_scale=True)"
      ]
    },
    {
      "cell_type": "code",
      "execution_count": 35,
      "id": "F6NcGIFrAfyZ",
      "metadata": {
        "colab": {
          "base_uri": "https://localhost:8080/",
          "height": 472
        },
        "id": "F6NcGIFrAfyZ",
        "outputId": "b346b129-b6f3-4d62-e0bd-f2d77ca65353"
      },
      "outputs": [
        {
          "data": {
            "text/plain": [
              "<Axes: xlabel='Strike Price', ylabel='Count'>"
            ]
          },
          "execution_count": 35,
          "metadata": {},
          "output_type": "execute_result"
        },
        {
          "data": {
            "image/png": "[encoded data removed]",
            "text/plain": [
              "<Figure size 640x480 with 1 Axes>"
            ]
          },
          "metadata": {},
          "output_type": "display_data"
        }
      ],
      "source": [
        "sns.histplot(results['Strike Price'], log_scale=True)"
      ]
    },
    {
      "cell_type": "code",
      "execution_count": 36,
      "id": "-MTv3Rk0Ajlp",
      "metadata": {
        "colab": {
          "base_uri": "https://localhost:8080/",
          "height": 472
        },
        "id": "-MTv3Rk0Ajlp",
        "outputId": "171f03fc-be9d-4966-ab03-2affd0eeb085"
      },
      "outputs": [
        {
          "data": {
            "text/plain": [
              "<Axes: xlabel='Implied Volatility', ylabel='Count'>"
            ]
          },
          "execution_count": 36,
          "metadata": {},
          "output_type": "execute_result"
        },
        {
          "data": {
            "image/png": "[encoded data removed]",
            "text/plain": [
              "<Figure size 640x480 with 1 Axes>"
            ]
          },
          "metadata": {},
          "output_type": "display_data"
        }
      ],
      "source": [
        "sns.histplot(results['Implied Volatility'], log_scale=True)"
      ]
    },
    {
      "cell_type": "code",
      "execution_count": 37,
      "id": "g92wkh0AAmmG",
      "metadata": {
        "colab": {
          "base_uri": "https://localhost:8080/",
          "height": 467
        },
        "id": "g92wkh0AAmmG",
        "outputId": "56d0b5b8-793d-4573-fb13-fbd4dedc84d8"
      },
      "outputs": [
        {
          "data": {
            "text/plain": [
              "<Axes: xlabel='Zero Coupon Rate', ylabel='Count'>"
            ]
          },
          "execution_count": 37,
          "metadata": {},
          "output_type": "execute_result"
        },
        {
          "data": {
            "image/png": "[encoded data removed]",
            "text/plain": [
              "<Figure size 640x480 with 1 Axes>"
            ]
          },
          "metadata": {},
          "output_type": "display_data"
        }
      ],
      "source": [
        "sns.histplot(results['Zero Coupon Rate'])"
      ]
    },
    {
      "cell_type": "code",
      "execution_count": 38,
      "id": "diCuUI0sBZ_l",
      "metadata": {
        "colab": {
          "base_uri": "https://localhost:8080/",
          "height": 472
        },
        "id": "diCuUI0sBZ_l",
        "outputId": "16186a34-3bc0-47eb-dbc6-147ca60b6842"
      },
      "outputs": [
        {
          "data": {
            "text/plain": [
              "<Axes: xlabel='Dividend Yield', ylabel='Count'>"
            ]
          },
          "execution_count": 38,
          "metadata": {},
          "output_type": "execute_result"
        },
        {
          "data": {
            "image/png": "[encoded data removed]",
            "text/plain": [
              "<Figure size 640x480 with 1 Axes>"
            ]
          },
          "metadata": {},
          "output_type": "display_data"
        }
      ],
      "source": [
        "sns.histplot(results['Dividend Yield'], log_scale=True)"
      ]
    },
    {
      "cell_type": "code",
      "execution_count": 39,
      "id": "ApTprzyKBggz",
      "metadata": {
        "colab": {
          "base_uri": "https://localhost:8080/",
          "height": 472
        },
        "id": "ApTprzyKBggz",
        "outputId": "47689af6-949b-40b6-ecb8-976d39b2631d"
      },
      "outputs": [
        {
          "data": {
            "text/plain": [
              "<Axes: xlabel='Time to Maturity (years)', ylabel='Count'>"
            ]
          },
          "execution_count": 39,
          "metadata": {},
          "output_type": "execute_result"
        },
        {
          "data": {
            "image/png": "[encoded data removed]",
            "text/plain": [
              "<Figure size 640x480 with 1 Axes>"
            ]
          },
          "metadata": {},
          "output_type": "display_data"
        }
      ],
      "source": [
        "sns.histplot(results['Time to Maturity (years)'], log_scale=True)"
      ]
    },
    {
      "cell_type": "code",
      "execution_count": 40,
      "id": "Dt9C7rVOBieV",
      "metadata": {
        "colab": {
          "base_uri": "https://localhost:8080/",
          "height": 465
        },
        "id": "Dt9C7rVOBieV",
        "outputId": "5f39e88c-e3de-425b-ac65-bc0a84152b94"
      },
      "outputs": [
        {
          "data": {
            "image/png": "[encoded data removed]",
            "text/plain": [
              "<Figure size 640x480 with 1 Axes>"
            ]
          },
          "metadata": {},
          "output_type": "display_data"
        }
      ],
      "source": [
        "# Revert Option Type to Original Values\n",
        "results['Option Type'] = results['Option Type'].map({1: 'Call', 0: 'Put'})\n",
        "\n",
        "# Plot Count of Option Types\n",
        "ax = sns.countplot(x='Option Type', data=results, color='#464646')\n",
        "\n",
        "for p in ax.patches:\n",
        "    ax.annotate(\"{:,d}\".format(int(p.get_height())), (p.get_x() + p.get_width() / 2., p.get_height()),\n",
        "                ha='center', va='center', xytext=(0, 5), textcoords='offset points', fontsize=9)\n",
        "\n",
        "ax.set_ylabel('Count')\n",
        "plt.show()"
      ]
    }
  ],
  "metadata": {
    "accelerator": "GPU",
    "colab": {
      "gpuType": "A100",
      "machine_shape": "hm",
      "provenance": []
    },
    "kernelspec": {
      "display_name": "Python 3",
      "name": "python3"
    },
    "language_info": {
      "name": "python"
    }
  },
  "nbformat": 4,
  "nbformat_minor": 5
}
